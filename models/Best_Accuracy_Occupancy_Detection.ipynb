{
  "nbformat": 4,
  "nbformat_minor": 0,
  "metadata": {
    "kernelspec": {
      "display_name": "Python 3",
      "language": "python",
      "name": "python3"
    },
    "language_info": {
      "codemirror_mode": {
        "name": "ipython",
        "version": 3
      },
      "file_extension": ".py",
      "mimetype": "text/x-python",
      "name": "python",
      "nbconvert_exporter": "python",
      "pygments_lexer": "ipython3",
      "version": "3.8.5"
    },
    "colab": {
      "name": "Best_Accuracy_Occupancy_Detection",
      "provenance": [],
      "collapsed_sections": []
    },
    "accelerator": "GPU"
  },
  "cells": [
    {
      "cell_type": "code",
      "metadata": {
        "id": "jQd5uvCW7oTl"
      },
      "source": [
        "import numpy as np                  # data processing \n",
        "import pandas as pd                 # data processing\n",
        "from sklearn.preprocessing import StandardScaler # data processing\n",
        "import os                           # data processing\n",
        "\n",
        "import seaborn as sns             # for plotting\n",
        "import matplotlib.pyplot as plt   # for plotting\n",
        "\n",
        "from keras.models import Sequential  # deep learning\n",
        "from keras.layers.core import Dense  # deep learning\n",
        "from keras.optimizers import Adam    # deep learning"
      ],
      "execution_count": null,
      "outputs": []
    },
    {
      "cell_type": "code",
      "metadata": {
        "id": "4V0f77-X7oTp"
      },
      "source": [
        "current_dir = os.getcwd()\n",
        "datasets_dir = current_dir + '/dataset'\n",
        "\n",
        "ds_train = datasets_dir +'/train.csv'\n",
        "ds_dev = datasets_dir + '/dev.csv'\n",
        "ds_test = datasets_dir + '/test.csv'"
      ],
      "execution_count": null,
      "outputs": []
    },
    {
      "cell_type": "code",
      "metadata": {
        "id": "zGzh2huM7oTp"
      },
      "source": [
        "def load_dataset(dataset):\n",
        "    '''\n",
        "    Load dataset as pandas dataframe.\n",
        "    '''\n",
        "    dataset_frame = pd.read_csv(dataset)\n",
        "    print(f\"{dataset.split(sep='/')[-1]} is loaded\")\n",
        "    return dataset_frame"
      ],
      "execution_count": null,
      "outputs": []
    },
    {
      "cell_type": "code",
      "metadata": {
        "id": "HF9n-ATw7oTu",
        "colab": {
          "base_uri": "https://localhost:8080/"
        },
        "outputId": "3d12c255-5039-4eee-e408-e59d19e97765"
      },
      "source": [
        "# Load datasets as dataframe\n",
        "df_train = load_dataset(ds_train)\n",
        "df_dev = load_dataset(ds_dev)\n",
        "df_test = load_dataset(ds_test)"
      ],
      "execution_count": null,
      "outputs": [
        {
          "output_type": "stream",
          "text": [
            "train.csv is loaded\n",
            "dev.csv is loaded\n",
            "test.csv is loaded\n"
          ],
          "name": "stdout"
        }
      ]
    },
    {
      "cell_type": "code",
      "metadata": {
        "id": "Vr_ni5MM7oTz",
        "colab": {
          "base_uri": "https://localhost:8080/",
          "height": 203
        },
        "outputId": "56e9f69a-4571-4e07-996f-4e3f1ca88e8f"
      },
      "source": [
        "df_train.head() # look first 5 row."
      ],
      "execution_count": null,
      "outputs": [
        {
          "output_type": "execute_result",
          "data": {
            "text/html": [
              "<div>\n",
              "<style scoped>\n",
              "    .dataframe tbody tr th:only-of-type {\n",
              "        vertical-align: middle;\n",
              "    }\n",
              "\n",
              "    .dataframe tbody tr th {\n",
              "        vertical-align: top;\n",
              "    }\n",
              "\n",
              "    .dataframe thead th {\n",
              "        text-align: right;\n",
              "    }\n",
              "</style>\n",
              "<table border=\"1\" class=\"dataframe\">\n",
              "  <thead>\n",
              "    <tr style=\"text-align: right;\">\n",
              "      <th></th>\n",
              "      <th>date</th>\n",
              "      <th>Temperature</th>\n",
              "      <th>Humidity</th>\n",
              "      <th>Light</th>\n",
              "      <th>CO2</th>\n",
              "      <th>HumidityRatio</th>\n",
              "      <th>Occupancy</th>\n",
              "    </tr>\n",
              "  </thead>\n",
              "  <tbody>\n",
              "    <tr>\n",
              "      <th>0</th>\n",
              "      <td>2015-02-04 17:51:00</td>\n",
              "      <td>23.18</td>\n",
              "      <td>27.2720</td>\n",
              "      <td>426.0</td>\n",
              "      <td>721.25</td>\n",
              "      <td>0.004793</td>\n",
              "      <td>1</td>\n",
              "    </tr>\n",
              "    <tr>\n",
              "      <th>1</th>\n",
              "      <td>2015-02-04 17:51:59</td>\n",
              "      <td>23.15</td>\n",
              "      <td>27.2675</td>\n",
              "      <td>429.5</td>\n",
              "      <td>714.00</td>\n",
              "      <td>0.004783</td>\n",
              "      <td>1</td>\n",
              "    </tr>\n",
              "    <tr>\n",
              "      <th>2</th>\n",
              "      <td>2015-02-04 17:53:00</td>\n",
              "      <td>NaN</td>\n",
              "      <td>27.2450</td>\n",
              "      <td>426.0</td>\n",
              "      <td>NaN</td>\n",
              "      <td>0.004779</td>\n",
              "      <td>1</td>\n",
              "    </tr>\n",
              "    <tr>\n",
              "      <th>3</th>\n",
              "      <td>2015-02-04 17:54:00</td>\n",
              "      <td>23.15</td>\n",
              "      <td>27.2000</td>\n",
              "      <td>426.0</td>\n",
              "      <td>708.25</td>\n",
              "      <td>0.004772</td>\n",
              "      <td>1</td>\n",
              "    </tr>\n",
              "    <tr>\n",
              "      <th>4</th>\n",
              "      <td>2015-02-04 17:55:00</td>\n",
              "      <td>NaN</td>\n",
              "      <td>27.2000</td>\n",
              "      <td>426.0</td>\n",
              "      <td>NaN</td>\n",
              "      <td>0.004757</td>\n",
              "      <td>1</td>\n",
              "    </tr>\n",
              "  </tbody>\n",
              "</table>\n",
              "</div>"
            ],
            "text/plain": [
              "                  date  Temperature  Humidity  ...     CO2  HumidityRatio  Occupancy\n",
              "0  2015-02-04 17:51:00        23.18   27.2720  ...  721.25       0.004793          1\n",
              "1  2015-02-04 17:51:59        23.15   27.2675  ...  714.00       0.004783          1\n",
              "2  2015-02-04 17:53:00          NaN   27.2450  ...     NaN       0.004779          1\n",
              "3  2015-02-04 17:54:00        23.15   27.2000  ...  708.25       0.004772          1\n",
              "4  2015-02-04 17:55:00          NaN   27.2000  ...     NaN       0.004757          1\n",
              "\n",
              "[5 rows x 7 columns]"
            ]
          },
          "metadata": {
            "tags": []
          },
          "execution_count": 5
        }
      ]
    },
    {
      "cell_type": "markdown",
      "metadata": {
        "id": "no_0Ct7hy8Am"
      },
      "source": [
        "date time year-month-day hour:minute:second\n",
        "\n",
        "Temperature, in Celsius\n",
        "\n",
        "Light, in Lux\\\n",
        "The light sensor is a passive device that converts the light energy into an electrical signal output. Light sensors are more commonly known as Photoelectric Devices or Photo Sensors because they convert light energy (photons) into electronic signal (electrons). The sensor receives the light reflected from the target.\n",
        "\n",
        "CO2, in ppm (parts per million)\\\n",
        "CO2 sensors commonly use Infrared technology for gas sensing. This type of sensor measures carbon dioxide levels by measuring the amount of Infrared radiations absorbed by the molecules.\n",
        "\n",
        "Relative Humidity, %\\\n",
        "Humidity Ratio, Derived quantity from temperature and relative humidity, in kgwater-vapor/kg-air\\\n",
        "A humidity sensor is a device that detects and measures water vapor. These humidity detectors provide accurate measurement of dew point and absolute humidity by combining relative humidity (RH) and temperature (T) measurements.\n",
        "\n",
        "Motion\\\n",
        "A passive infrared sensor (PIR sensor) is an electronic sensor that measures infrared (IR) light radiating from objects in its field of view. They are most often used in PIR-based motion detectors. PIR sensors are commonly used in security alarms and automatic lighting applications.\n",
        "\n",
        "Occupancy, 0 or 1, 0 for not occupied, 1 for occupied *status*"
      ]
    },
    {
      "cell_type": "code",
      "metadata": {
        "id": "n8l16SAE7oT3",
        "colab": {
          "base_uri": "https://localhost:8080/"
        },
        "outputId": "588f9710-f661-40ef-a338-152bff75ee93"
      },
      "source": [
        "df_train.info()"
      ],
      "execution_count": null,
      "outputs": [
        {
          "output_type": "stream",
          "text": [
            "<class 'pandas.core.frame.DataFrame'>\n",
            "RangeIndex: 8143 entries, 0 to 8142\n",
            "Data columns (total 7 columns):\n",
            " #   Column         Non-Null Count  Dtype  \n",
            "---  ------         --------------  -----  \n",
            " 0   date           8143 non-null   object \n",
            " 1   Temperature    7763 non-null   float64\n",
            " 2   Humidity       8143 non-null   float64\n",
            " 3   Light          8143 non-null   float64\n",
            " 4   CO2            7633 non-null   float64\n",
            " 5   HumidityRatio  8143 non-null   float64\n",
            " 6   Occupancy      8143 non-null   int64  \n",
            "dtypes: float64(5), int64(1), object(1)\n",
            "memory usage: 445.4+ KB\n"
          ],
          "name": "stdout"
        }
      ]
    },
    {
      "cell_type": "code",
      "metadata": {
        "id": "ue-2SxAi7oT4",
        "colab": {
          "base_uri": "https://localhost:8080/"
        },
        "outputId": "7dee6f9c-ee42-4c8c-cce5-b0ab569f4dfc"
      },
      "source": [
        "df_dev.info()"
      ],
      "execution_count": null,
      "outputs": [
        {
          "output_type": "stream",
          "text": [
            "<class 'pandas.core.frame.DataFrame'>\n",
            "RangeIndex: 2665 entries, 0 to 2664\n",
            "Data columns (total 7 columns):\n",
            " #   Column         Non-Null Count  Dtype  \n",
            "---  ------         --------------  -----  \n",
            " 0   date           2665 non-null   object \n",
            " 1   Temperature    2665 non-null   float64\n",
            " 2   Humidity       2665 non-null   float64\n",
            " 3   Light          2665 non-null   float64\n",
            " 4   CO2            2665 non-null   float64\n",
            " 5   HumidityRatio  2665 non-null   float64\n",
            " 6   Occupancy      2665 non-null   int64  \n",
            "dtypes: float64(5), int64(1), object(1)\n",
            "memory usage: 145.9+ KB\n"
          ],
          "name": "stdout"
        }
      ]
    },
    {
      "cell_type": "code",
      "metadata": {
        "scrolled": true,
        "id": "ZnuKQSzw7oT4",
        "colab": {
          "base_uri": "https://localhost:8080/"
        },
        "outputId": "d05603ae-e9d9-476d-9837-4af13d9cfe92"
      },
      "source": [
        "df_test.info()"
      ],
      "execution_count": null,
      "outputs": [
        {
          "output_type": "stream",
          "text": [
            "<class 'pandas.core.frame.DataFrame'>\n",
            "RangeIndex: 9752 entries, 0 to 9751\n",
            "Data columns (total 7 columns):\n",
            " #   Column         Non-Null Count  Dtype  \n",
            "---  ------         --------------  -----  \n",
            " 0   date           9752 non-null   object \n",
            " 1   Temperature    9752 non-null   float64\n",
            " 2   Humidity       9752 non-null   float64\n",
            " 3   Light          9752 non-null   float64\n",
            " 4   CO2            9752 non-null   float64\n",
            " 5   HumidityRatio  9752 non-null   float64\n",
            " 6   Occupancy      9752 non-null   int64  \n",
            "dtypes: float64(5), int64(1), object(1)\n",
            "memory usage: 533.4+ KB\n"
          ],
          "name": "stdout"
        }
      ]
    },
    {
      "cell_type": "code",
      "metadata": {
        "id": "Aai52mia7oVt"
      },
      "source": [
        "def isMissingValue(df,name):\n",
        "  \n",
        "  na_checker = df.isna().any().sum()\n",
        "  if na_checker > 0:\n",
        "    print(\"Are there any missing/NaN values in \",name,\"set? : Yes\")\n",
        "    print(\"\\n\\tCounts\")\n",
        "    print(df.isna().sum())\n",
        "  else:\n",
        "    print(\"Are there any missing/NaN values in \",name,\"set? : No \")"
      ],
      "execution_count": null,
      "outputs": []
    },
    {
      "cell_type": "code",
      "metadata": {
        "id": "MeGtieH47oV_",
        "colab": {
          "base_uri": "https://localhost:8080/"
        },
        "outputId": "3a2b855e-315b-4ffd-b89c-338acc52b25e"
      },
      "source": [
        "isMissingValue(df_train,'Train')\n",
        "isMissingValue(df_dev,'Dev')\n",
        "isMissingValue(df_test,'Test')"
      ],
      "execution_count": null,
      "outputs": [
        {
          "output_type": "stream",
          "text": [
            "Are there any missing/NaN values in  Train set? : Yes\n",
            "\n",
            "\tCounts\n",
            "date               0\n",
            "Temperature      380\n",
            "Humidity           0\n",
            "Light              0\n",
            "CO2              510\n",
            "HumidityRatio      0\n",
            "Occupancy          0\n",
            "dtype: int64\n",
            "Are there any missing/NaN values in  Dev set? : No \n",
            "Are there any missing/NaN values in  Test set? : No \n"
          ],
          "name": "stdout"
        }
      ]
    },
    {
      "cell_type": "code",
      "metadata": {
        "id": "3FHOWfKU7oWA",
        "colab": {
          "base_uri": "https://localhost:8080/",
          "height": 52
        },
        "outputId": "d3609617-c9e0-42f4-873c-1ffffa09b321"
      },
      "source": [
        "'''\n",
        "We can see there are missing values in train dataset. Other datasets have not missing values.\n",
        "So let's fill missing values in train dataset.\n",
        "'''"
      ],
      "execution_count": null,
      "outputs": [
        {
          "output_type": "execute_result",
          "data": {
            "application/vnd.google.colaboratory.intrinsic+json": {
              "type": "string"
            },
            "text/plain": [
              "\"\\nWe can see there are missing values in train dataset. Other datasets have not missing values.\\nSo let's fill missing values in train dataset.\\n\""
            ]
          },
          "metadata": {
            "tags": []
          },
          "execution_count": 11
        }
      ]
    },
    {
      "cell_type": "code",
      "metadata": {
        "id": "GlaQOcgk7oWC",
        "colab": {
          "base_uri": "https://localhost:8080/"
        },
        "outputId": "7f0149ae-072f-456b-fcab-6bbeed4acf40"
      },
      "source": [
        "def divide_dataset(dataset,cols_X,col_y):\n",
        "    '''\n",
        "    This function split our dataset as X and y. \n",
        "    Input : the dataset path.\n",
        "    '''\n",
        "    X = pd.read_csv(dataset,sep=',',usecols = cols_X)\n",
        "    y = pd.read_csv(dataset,sep=',',usecols = col_y)\n",
        "    print(f\"{dataset.split(sep='/')[-1]} is splitted as X and y\")\n",
        "    return X,y\n",
        "\n",
        "cols_X = ['date','Temperature','Humidity','Light','CO2','HumidityRatio']\n",
        "col_y = ['Occupancy']\n",
        "\n",
        "df_train_X,df_train_y = divide_dataset(ds_train,cols_X,col_y)\n",
        "df_dev_X,df_dev_y = divide_dataset(ds_dev,cols_X,col_y)\n",
        "df_test_X,df_test_y = divide_dataset(ds_test,cols_X,col_y)\n"
      ],
      "execution_count": null,
      "outputs": [
        {
          "output_type": "stream",
          "text": [
            "train.csv is splitted as X and y\n",
            "dev.csv is splitted as X and y\n",
            "test.csv is splitted as X and y\n"
          ],
          "name": "stdout"
        }
      ]
    },
    {
      "cell_type": "code",
      "metadata": {
        "id": "G-l00JmE7oWF"
      },
      "source": [
        "def fillAsMean(df,missing_features):\n",
        "  \n",
        "    size = len(missing_features)\n",
        "    for i in range(size):\n",
        "      feature_name = missing_features[i]\n",
        "      avg = np.mean(df.get(feature_name)) \n",
        "      df[feature_name] = df[feature_name].fillna(avg)\n",
        "      print(f'Missing values are filled with average of {feature_name} columns.')\n",
        "    return df"
      ],
      "execution_count": null,
      "outputs": []
    },
    {
      "cell_type": "code",
      "metadata": {
        "scrolled": false,
        "id": "NgXd83ix7oWF",
        "colab": {
          "base_uri": "https://localhost:8080/"
        },
        "outputId": "85163eaf-eedf-4683-adca-8ef5d1a506a2"
      },
      "source": [
        "missing_features = ['Temperature','CO2']\n",
        "\n",
        "df_train_X = fillAsMean(df_train_X,missing_features)"
      ],
      "execution_count": null,
      "outputs": [
        {
          "output_type": "stream",
          "text": [
            "Missing values are filled with average of Temperature columns.\n",
            "Missing values are filled with average of CO2 columns.\n"
          ],
          "name": "stdout"
        }
      ]
    },
    {
      "cell_type": "code",
      "metadata": {
        "id": "3eDQdpHi7oWH",
        "colab": {
          "base_uri": "https://localhost:8080/"
        },
        "outputId": "a4c25e6c-f1fb-4c7a-da2b-053ab046b150"
      },
      "source": [
        "df_train_X.isna().any()"
      ],
      "execution_count": null,
      "outputs": [
        {
          "output_type": "execute_result",
          "data": {
            "text/plain": [
              "date             False\n",
              "Temperature      False\n",
              "Humidity         False\n",
              "Light            False\n",
              "CO2              False\n",
              "HumidityRatio    False\n",
              "dtype: bool"
            ]
          },
          "metadata": {
            "tags": []
          },
          "execution_count": 15
        }
      ]
    },
    {
      "cell_type": "code",
      "metadata": {
        "id": "faED46797oWJ",
        "colab": {
          "base_uri": "https://localhost:8080/",
          "height": 295
        },
        "outputId": "647fd3cb-186f-4835-ec1e-9ed351f4d908"
      },
      "source": [
        "df_dev_X.describe()"
      ],
      "execution_count": null,
      "outputs": [
        {
          "output_type": "execute_result",
          "data": {
            "text/html": [
              "<div>\n",
              "<style scoped>\n",
              "    .dataframe tbody tr th:only-of-type {\n",
              "        vertical-align: middle;\n",
              "    }\n",
              "\n",
              "    .dataframe tbody tr th {\n",
              "        vertical-align: top;\n",
              "    }\n",
              "\n",
              "    .dataframe thead th {\n",
              "        text-align: right;\n",
              "    }\n",
              "</style>\n",
              "<table border=\"1\" class=\"dataframe\">\n",
              "  <thead>\n",
              "    <tr style=\"text-align: right;\">\n",
              "      <th></th>\n",
              "      <th>Temperature</th>\n",
              "      <th>Humidity</th>\n",
              "      <th>Light</th>\n",
              "      <th>CO2</th>\n",
              "      <th>HumidityRatio</th>\n",
              "    </tr>\n",
              "  </thead>\n",
              "  <tbody>\n",
              "    <tr>\n",
              "      <th>count</th>\n",
              "      <td>2665.000000</td>\n",
              "      <td>2665.000000</td>\n",
              "      <td>2665.000000</td>\n",
              "      <td>2665.000000</td>\n",
              "      <td>2665.000000</td>\n",
              "    </tr>\n",
              "    <tr>\n",
              "      <th>mean</th>\n",
              "      <td>21.433876</td>\n",
              "      <td>25.353937</td>\n",
              "      <td>193.227556</td>\n",
              "      <td>717.906470</td>\n",
              "      <td>0.004027</td>\n",
              "    </tr>\n",
              "    <tr>\n",
              "      <th>std</th>\n",
              "      <td>1.028024</td>\n",
              "      <td>2.436842</td>\n",
              "      <td>250.210906</td>\n",
              "      <td>292.681718</td>\n",
              "      <td>0.000611</td>\n",
              "    </tr>\n",
              "    <tr>\n",
              "      <th>min</th>\n",
              "      <td>20.200000</td>\n",
              "      <td>22.100000</td>\n",
              "      <td>0.000000</td>\n",
              "      <td>427.500000</td>\n",
              "      <td>0.003303</td>\n",
              "    </tr>\n",
              "    <tr>\n",
              "      <th>25%</th>\n",
              "      <td>20.650000</td>\n",
              "      <td>23.260000</td>\n",
              "      <td>0.000000</td>\n",
              "      <td>466.000000</td>\n",
              "      <td>0.003529</td>\n",
              "    </tr>\n",
              "    <tr>\n",
              "      <th>50%</th>\n",
              "      <td>20.890000</td>\n",
              "      <td>25.000000</td>\n",
              "      <td>0.000000</td>\n",
              "      <td>580.500000</td>\n",
              "      <td>0.003815</td>\n",
              "    </tr>\n",
              "    <tr>\n",
              "      <th>75%</th>\n",
              "      <td>22.356667</td>\n",
              "      <td>26.856667</td>\n",
              "      <td>442.500000</td>\n",
              "      <td>956.333333</td>\n",
              "      <td>0.004532</td>\n",
              "    </tr>\n",
              "    <tr>\n",
              "      <th>max</th>\n",
              "      <td>24.408333</td>\n",
              "      <td>31.472500</td>\n",
              "      <td>1697.250000</td>\n",
              "      <td>1402.250000</td>\n",
              "      <td>0.005378</td>\n",
              "    </tr>\n",
              "  </tbody>\n",
              "</table>\n",
              "</div>"
            ],
            "text/plain": [
              "       Temperature     Humidity        Light          CO2  HumidityRatio\n",
              "count  2665.000000  2665.000000  2665.000000  2665.000000    2665.000000\n",
              "mean     21.433876    25.353937   193.227556   717.906470       0.004027\n",
              "std       1.028024     2.436842   250.210906   292.681718       0.000611\n",
              "min      20.200000    22.100000     0.000000   427.500000       0.003303\n",
              "25%      20.650000    23.260000     0.000000   466.000000       0.003529\n",
              "50%      20.890000    25.000000     0.000000   580.500000       0.003815\n",
              "75%      22.356667    26.856667   442.500000   956.333333       0.004532\n",
              "max      24.408333    31.472500  1697.250000  1402.250000       0.005378"
            ]
          },
          "metadata": {
            "tags": []
          },
          "execution_count": 16
        }
      ]
    },
    {
      "cell_type": "code",
      "metadata": {
        "id": "MsdqSUR77oWL",
        "colab": {
          "base_uri": "https://localhost:8080/",
          "height": 295
        },
        "outputId": "0673af09-051b-4bed-fe27-a537356db878"
      },
      "source": [
        "df_test_X.describe()"
      ],
      "execution_count": null,
      "outputs": [
        {
          "output_type": "execute_result",
          "data": {
            "text/html": [
              "<div>\n",
              "<style scoped>\n",
              "    .dataframe tbody tr th:only-of-type {\n",
              "        vertical-align: middle;\n",
              "    }\n",
              "\n",
              "    .dataframe tbody tr th {\n",
              "        vertical-align: top;\n",
              "    }\n",
              "\n",
              "    .dataframe thead th {\n",
              "        text-align: right;\n",
              "    }\n",
              "</style>\n",
              "<table border=\"1\" class=\"dataframe\">\n",
              "  <thead>\n",
              "    <tr style=\"text-align: right;\">\n",
              "      <th></th>\n",
              "      <th>Temperature</th>\n",
              "      <th>Humidity</th>\n",
              "      <th>Light</th>\n",
              "      <th>CO2</th>\n",
              "      <th>HumidityRatio</th>\n",
              "    </tr>\n",
              "  </thead>\n",
              "  <tbody>\n",
              "    <tr>\n",
              "      <th>count</th>\n",
              "      <td>9752.000000</td>\n",
              "      <td>9752.000000</td>\n",
              "      <td>9752.000000</td>\n",
              "      <td>9752.000000</td>\n",
              "      <td>9752.000000</td>\n",
              "    </tr>\n",
              "    <tr>\n",
              "      <th>mean</th>\n",
              "      <td>21.001768</td>\n",
              "      <td>29.891910</td>\n",
              "      <td>123.067930</td>\n",
              "      <td>753.224832</td>\n",
              "      <td>0.004589</td>\n",
              "    </tr>\n",
              "    <tr>\n",
              "      <th>std</th>\n",
              "      <td>1.020693</td>\n",
              "      <td>3.952844</td>\n",
              "      <td>208.221275</td>\n",
              "      <td>297.096114</td>\n",
              "      <td>0.000531</td>\n",
              "    </tr>\n",
              "    <tr>\n",
              "      <th>min</th>\n",
              "      <td>19.500000</td>\n",
              "      <td>21.865000</td>\n",
              "      <td>0.000000</td>\n",
              "      <td>484.666667</td>\n",
              "      <td>0.003275</td>\n",
              "    </tr>\n",
              "    <tr>\n",
              "      <th>25%</th>\n",
              "      <td>20.290000</td>\n",
              "      <td>26.642083</td>\n",
              "      <td>0.000000</td>\n",
              "      <td>542.312500</td>\n",
              "      <td>0.004196</td>\n",
              "    </tr>\n",
              "    <tr>\n",
              "      <th>50%</th>\n",
              "      <td>20.790000</td>\n",
              "      <td>30.200000</td>\n",
              "      <td>0.000000</td>\n",
              "      <td>639.000000</td>\n",
              "      <td>0.004593</td>\n",
              "    </tr>\n",
              "    <tr>\n",
              "      <th>75%</th>\n",
              "      <td>21.533333</td>\n",
              "      <td>32.700000</td>\n",
              "      <td>208.250000</td>\n",
              "      <td>831.125000</td>\n",
              "      <td>0.004998</td>\n",
              "    </tr>\n",
              "    <tr>\n",
              "      <th>max</th>\n",
              "      <td>24.390000</td>\n",
              "      <td>39.500000</td>\n",
              "      <td>1581.000000</td>\n",
              "      <td>2076.500000</td>\n",
              "      <td>0.005769</td>\n",
              "    </tr>\n",
              "  </tbody>\n",
              "</table>\n",
              "</div>"
            ],
            "text/plain": [
              "       Temperature     Humidity        Light          CO2  HumidityRatio\n",
              "count  9752.000000  9752.000000  9752.000000  9752.000000    9752.000000\n",
              "mean     21.001768    29.891910   123.067930   753.224832       0.004589\n",
              "std       1.020693     3.952844   208.221275   297.096114       0.000531\n",
              "min      19.500000    21.865000     0.000000   484.666667       0.003275\n",
              "25%      20.290000    26.642083     0.000000   542.312500       0.004196\n",
              "50%      20.790000    30.200000     0.000000   639.000000       0.004593\n",
              "75%      21.533333    32.700000   208.250000   831.125000       0.004998\n",
              "max      24.390000    39.500000  1581.000000  2076.500000       0.005769"
            ]
          },
          "metadata": {
            "tags": []
          },
          "execution_count": 17
        }
      ]
    },
    {
      "cell_type": "code",
      "metadata": {
        "id": "_wdHO61y7oWL",
        "colab": {
          "base_uri": "https://localhost:8080/"
        },
        "outputId": "dbf61d36-42a0-4353-9420-490be07036de"
      },
      "source": [
        "df_train_X.dtypes"
      ],
      "execution_count": null,
      "outputs": [
        {
          "output_type": "execute_result",
          "data": {
            "text/plain": [
              "date              object\n",
              "Temperature      float64\n",
              "Humidity         float64\n",
              "Light            float64\n",
              "CO2              float64\n",
              "HumidityRatio    float64\n",
              "dtype: object"
            ]
          },
          "metadata": {
            "tags": []
          },
          "execution_count": 18
        }
      ]
    },
    {
      "cell_type": "code",
      "metadata": {
        "id": "txBgK-vf7oWM"
      },
      "source": [
        "def dateTimeConverter(df):\n",
        "\n",
        "  try:\n",
        "    df[\"date\"] = pd.to_datetime(df[\"date\"])\n",
        "    df[\"date\"] = pd.Float64Index(df[\"date\"])\n",
        "    print(\"Date time converting process is successed.\")\n",
        "  except:\n",
        "    print(\"Exception Occured Step: Datetime Convert!\")\n",
        "  return df\n"
      ],
      "execution_count": null,
      "outputs": []
    },
    {
      "cell_type": "code",
      "metadata": {
        "id": "2GEe9V437oWM",
        "colab": {
          "base_uri": "https://localhost:8080/"
        },
        "outputId": "d9b3bc86-bc69-4fc2-89ef-17555cc34e02"
      },
      "source": [
        "df_train_X = dateTimeConverter(df_train_X)\n",
        "df_dev_X = dateTimeConverter(df_dev_X)\n",
        "df_test_X = dateTimeConverter(df_test_X)"
      ],
      "execution_count": null,
      "outputs": [
        {
          "output_type": "stream",
          "text": [
            "Date time converting process is successed.\n",
            "Date time converting process is successed.\n",
            "Date time converting process is successed.\n"
          ],
          "name": "stdout"
        }
      ]
    },
    {
      "cell_type": "code",
      "metadata": {
        "id": "1P10x0eh7oWN",
        "colab": {
          "base_uri": "https://localhost:8080/"
        },
        "outputId": "79364d5b-7fbf-4fb9-85fa-c87cb997c6e8"
      },
      "source": [
        "df_train_X.dtypes"
      ],
      "execution_count": null,
      "outputs": [
        {
          "output_type": "execute_result",
          "data": {
            "text/plain": [
              "date             float64\n",
              "Temperature      float64\n",
              "Humidity         float64\n",
              "Light            float64\n",
              "CO2              float64\n",
              "HumidityRatio    float64\n",
              "dtype: object"
            ]
          },
          "metadata": {
            "tags": []
          },
          "execution_count": 21
        }
      ]
    },
    {
      "cell_type": "code",
      "metadata": {
        "id": "I6czQkDX7oWN"
      },
      "source": [
        "def trundle(df,features):\n",
        "  \n",
        "  for feature_name in features:\n",
        "    df[feature_name] = round(df[feature_name],5)\n",
        "    print(feature_name,\" Rounded operation is successful !\")\n",
        "  print(\"\\n\\n\")\n",
        "  return df"
      ],
      "execution_count": null,
      "outputs": []
    },
    {
      "cell_type": "code",
      "metadata": {
        "id": "z69SLluD7oWN",
        "colab": {
          "base_uri": "https://localhost:8080/"
        },
        "outputId": "eccfc1ef-8041-47d8-b372-c08ff6f8e4ea"
      },
      "source": [
        "features = df_train_X.columns\n",
        "df_train_X = trundle(df_train_X,features)\n",
        "df_dev_X = trundle(df_dev_X,features)\n",
        "df_test_X = trundle(df_test_X,features)"
      ],
      "execution_count": null,
      "outputs": [
        {
          "output_type": "stream",
          "text": [
            "date  Rounded operation is successful !\n",
            "Temperature  Rounded operation is successful !\n",
            "Humidity  Rounded operation is successful !\n",
            "Light  Rounded operation is successful !\n",
            "CO2  Rounded operation is successful !\n",
            "HumidityRatio  Rounded operation is successful !\n",
            "\n",
            "\n",
            "\n",
            "date  Rounded operation is successful !\n",
            "Temperature  Rounded operation is successful !\n",
            "Humidity  Rounded operation is successful !\n",
            "Light  Rounded operation is successful !\n",
            "CO2  Rounded operation is successful !\n",
            "HumidityRatio  Rounded operation is successful !\n",
            "\n",
            "\n",
            "\n",
            "date  Rounded operation is successful !\n",
            "Temperature  Rounded operation is successful !\n",
            "Humidity  Rounded operation is successful !\n",
            "Light  Rounded operation is successful !\n",
            "CO2  Rounded operation is successful !\n",
            "HumidityRatio  Rounded operation is successful !\n",
            "\n",
            "\n",
            "\n"
          ],
          "name": "stdout"
        }
      ]
    },
    {
      "cell_type": "code",
      "metadata": {
        "id": "1O_54rvJ7oWP",
        "colab": {
          "base_uri": "https://localhost:8080/",
          "height": 417
        },
        "outputId": "33807199-2694-4340-e9d1-9e996148a74f"
      },
      "source": [
        "df_train_X"
      ],
      "execution_count": null,
      "outputs": [
        {
          "output_type": "execute_result",
          "data": {
            "text/html": [
              "<div>\n",
              "<style scoped>\n",
              "    .dataframe tbody tr th:only-of-type {\n",
              "        vertical-align: middle;\n",
              "    }\n",
              "\n",
              "    .dataframe tbody tr th {\n",
              "        vertical-align: top;\n",
              "    }\n",
              "\n",
              "    .dataframe thead th {\n",
              "        text-align: right;\n",
              "    }\n",
              "</style>\n",
              "<table border=\"1\" class=\"dataframe\">\n",
              "  <thead>\n",
              "    <tr style=\"text-align: right;\">\n",
              "      <th></th>\n",
              "      <th>date</th>\n",
              "      <th>Temperature</th>\n",
              "      <th>Humidity</th>\n",
              "      <th>Light</th>\n",
              "      <th>CO2</th>\n",
              "      <th>HumidityRatio</th>\n",
              "    </tr>\n",
              "  </thead>\n",
              "  <tbody>\n",
              "    <tr>\n",
              "      <th>0</th>\n",
              "      <td>1.423072e+18</td>\n",
              "      <td>23.18000</td>\n",
              "      <td>27.2720</td>\n",
              "      <td>426.0</td>\n",
              "      <td>721.25000</td>\n",
              "      <td>0.00479</td>\n",
              "    </tr>\n",
              "    <tr>\n",
              "      <th>1</th>\n",
              "      <td>1.423072e+18</td>\n",
              "      <td>23.15000</td>\n",
              "      <td>27.2675</td>\n",
              "      <td>429.5</td>\n",
              "      <td>714.00000</td>\n",
              "      <td>0.00478</td>\n",
              "    </tr>\n",
              "    <tr>\n",
              "      <th>2</th>\n",
              "      <td>1.423072e+18</td>\n",
              "      <td>20.57617</td>\n",
              "      <td>27.2450</td>\n",
              "      <td>426.0</td>\n",
              "      <td>604.03209</td>\n",
              "      <td>0.00478</td>\n",
              "    </tr>\n",
              "    <tr>\n",
              "      <th>3</th>\n",
              "      <td>1.423072e+18</td>\n",
              "      <td>23.15000</td>\n",
              "      <td>27.2000</td>\n",
              "      <td>426.0</td>\n",
              "      <td>708.25000</td>\n",
              "      <td>0.00477</td>\n",
              "    </tr>\n",
              "    <tr>\n",
              "      <th>4</th>\n",
              "      <td>1.423072e+18</td>\n",
              "      <td>20.57617</td>\n",
              "      <td>27.2000</td>\n",
              "      <td>426.0</td>\n",
              "      <td>604.03209</td>\n",
              "      <td>0.00476</td>\n",
              "    </tr>\n",
              "    <tr>\n",
              "      <th>...</th>\n",
              "      <td>...</td>\n",
              "      <td>...</td>\n",
              "      <td>...</td>\n",
              "      <td>...</td>\n",
              "      <td>...</td>\n",
              "      <td>...</td>\n",
              "    </tr>\n",
              "    <tr>\n",
              "      <th>8138</th>\n",
              "      <td>1.423561e+18</td>\n",
              "      <td>21.05000</td>\n",
              "      <td>36.0975</td>\n",
              "      <td>433.0</td>\n",
              "      <td>787.25000</td>\n",
              "      <td>0.00558</td>\n",
              "    </tr>\n",
              "    <tr>\n",
              "      <th>8139</th>\n",
              "      <td>1.423561e+18</td>\n",
              "      <td>21.05000</td>\n",
              "      <td>35.9950</td>\n",
              "      <td>433.0</td>\n",
              "      <td>789.50000</td>\n",
              "      <td>0.00556</td>\n",
              "    </tr>\n",
              "    <tr>\n",
              "      <th>8140</th>\n",
              "      <td>1.423561e+18</td>\n",
              "      <td>21.10000</td>\n",
              "      <td>36.0950</td>\n",
              "      <td>433.0</td>\n",
              "      <td>798.50000</td>\n",
              "      <td>0.00560</td>\n",
              "    </tr>\n",
              "    <tr>\n",
              "      <th>8141</th>\n",
              "      <td>1.423561e+18</td>\n",
              "      <td>21.10000</td>\n",
              "      <td>36.2600</td>\n",
              "      <td>433.0</td>\n",
              "      <td>820.33333</td>\n",
              "      <td>0.00562</td>\n",
              "    </tr>\n",
              "    <tr>\n",
              "      <th>8142</th>\n",
              "      <td>1.423561e+18</td>\n",
              "      <td>21.10000</td>\n",
              "      <td>36.2000</td>\n",
              "      <td>447.0</td>\n",
              "      <td>821.00000</td>\n",
              "      <td>0.00561</td>\n",
              "    </tr>\n",
              "  </tbody>\n",
              "</table>\n",
              "<p>8143 rows × 6 columns</p>\n",
              "</div>"
            ],
            "text/plain": [
              "              date  Temperature  Humidity  Light        CO2  HumidityRatio\n",
              "0     1.423072e+18     23.18000   27.2720  426.0  721.25000        0.00479\n",
              "1     1.423072e+18     23.15000   27.2675  429.5  714.00000        0.00478\n",
              "2     1.423072e+18     20.57617   27.2450  426.0  604.03209        0.00478\n",
              "3     1.423072e+18     23.15000   27.2000  426.0  708.25000        0.00477\n",
              "4     1.423072e+18     20.57617   27.2000  426.0  604.03209        0.00476\n",
              "...            ...          ...       ...    ...        ...            ...\n",
              "8138  1.423561e+18     21.05000   36.0975  433.0  787.25000        0.00558\n",
              "8139  1.423561e+18     21.05000   35.9950  433.0  789.50000        0.00556\n",
              "8140  1.423561e+18     21.10000   36.0950  433.0  798.50000        0.00560\n",
              "8141  1.423561e+18     21.10000   36.2600  433.0  820.33333        0.00562\n",
              "8142  1.423561e+18     21.10000   36.2000  447.0  821.00000        0.00561\n",
              "\n",
              "[8143 rows x 6 columns]"
            ]
          },
          "metadata": {
            "tags": []
          },
          "execution_count": 24
        }
      ]
    },
    {
      "cell_type": "code",
      "metadata": {
        "id": "x0GC61NC7oWX"
      },
      "source": [
        "\n",
        "def add_TempLight(df):\n",
        "  df_has_new_feature = df\n",
        "  df_has_new_feature.columns = df.columns\n",
        "  try:\n",
        "    df_has_new_feature['Temp*Light']=df_has_new_feature['Temperature'] * (df_has_new_feature)[\"Light\"]\n",
        "    print(\"Temp x Ligth feature is added !\")\n",
        "  except:\n",
        "    print(\"Exception occured: Co2 x HR feature is NOT added !\")\n",
        "  return (df_has_new_feature)\n",
        "\n",
        "def add_CO2Temp(df):\n",
        "  df_has_new_feature = df\n",
        "  df_has_new_feature.columns = df.columns\n",
        "  try:\n",
        "    df_has_new_feature['CO2*Temp']=df_has_new_feature['CO2'] * (df_has_new_feature)[\"Temperature\"]\n",
        "    print(\"Co2 x Temperature feature is added !\")\n",
        "  except:\n",
        "    print(\"CO2 x Temperature feature is NOT added !\")\n",
        "  return (df_has_new_feature)\n"
      ],
      "execution_count": null,
      "outputs": []
    },
    {
      "cell_type": "code",
      "metadata": {
        "id": "jCxcHxxU7oWY",
        "colab": {
          "base_uri": "https://localhost:8080/"
        },
        "outputId": "a7442176-8d38-4717-8c4e-79067a3567b6"
      },
      "source": [
        "# Add new Features All Datasets.\n",
        "print(\"Train-Set\")\n",
        "train_X = add_TempLight(df_train_X)\n",
        "train_X = add_CO2Temp(df_train_X)\n",
        "print(\"\\nDev-Set\")\n",
        "dev_X = add_TempLight(df_dev_X)\n",
        "dev_X = add_CO2Temp(df_dev_X)\n",
        "print(\"\\nTest-Set\")\n",
        "test_X = add_TempLight(df_test_X)\n",
        "test_X = add_CO2Temp(df_test_X)"
      ],
      "execution_count": null,
      "outputs": [
        {
          "output_type": "stream",
          "text": [
            "Train-Set\n",
            "Temp x Ligth feature is added !\n",
            "Co2 x Temperature feature is added !\n",
            "\n",
            "Dev-Set\n",
            "Temp x Ligth feature is added !\n",
            "Co2 x Temperature feature is added !\n",
            "\n",
            "Test-Set\n",
            "Temp x Ligth feature is added !\n",
            "Co2 x Temperature feature is added !\n"
          ],
          "name": "stdout"
        }
      ]
    },
    {
      "cell_type": "code",
      "metadata": {
        "id": "DdRuDJp87oWY"
      },
      "source": [
        "\n",
        "scaler = StandardScaler()\n",
        "def df_scaler(df,name):\n",
        "  '''\n",
        "  Input : df - dataframe\n",
        "          name - dataframe's name.\n",
        "  Output : df - dataframe is scaled.\n",
        "  '''\n",
        "  try:\n",
        "    df_scaled = scaler.fit_transform(df)\n",
        "    df = pd.DataFrame(df_scaled,columns=df.columns)\n",
        "    print(name,\"is scaled successfully!\")\n",
        "  except:\n",
        "    print(\"Exception occured step: Train Scaling!\")\n",
        "  return df"
      ],
      "execution_count": null,
      "outputs": []
    },
    {
      "cell_type": "code",
      "metadata": {
        "id": "k8q_bCPf7oWY",
        "colab": {
          "base_uri": "https://localhost:8080/"
        },
        "outputId": "88a10d40-6eb0-43a5-b1e7-39984ce8617a"
      },
      "source": [
        "train_X_scaled = df_scaler(train_X,'Train')\n",
        "dev_X_scaled = df_scaler(dev_X,'Dev')\n",
        "test_X_scaled = df_scaler(test_X,'Test')"
      ],
      "execution_count": null,
      "outputs": [
        {
          "output_type": "stream",
          "text": [
            "Train is scaled successfully!\n",
            "Dev is scaled successfully!\n",
            "Test is scaled successfully!\n"
          ],
          "name": "stdout"
        }
      ]
    },
    {
      "cell_type": "code",
      "metadata": {
        "id": "QG9NF15g7oWZ",
        "colab": {
          "base_uri": "https://localhost:8080/",
          "height": 417
        },
        "outputId": "c75bc717-7dd9-4070-c55f-14cd7999c92d"
      },
      "source": [
        "train_X"
      ],
      "execution_count": null,
      "outputs": [
        {
          "output_type": "execute_result",
          "data": {
            "text/html": [
              "<div>\n",
              "<style scoped>\n",
              "    .dataframe tbody tr th:only-of-type {\n",
              "        vertical-align: middle;\n",
              "    }\n",
              "\n",
              "    .dataframe tbody tr th {\n",
              "        vertical-align: top;\n",
              "    }\n",
              "\n",
              "    .dataframe thead th {\n",
              "        text-align: right;\n",
              "    }\n",
              "</style>\n",
              "<table border=\"1\" class=\"dataframe\">\n",
              "  <thead>\n",
              "    <tr style=\"text-align: right;\">\n",
              "      <th></th>\n",
              "      <th>date</th>\n",
              "      <th>Temperature</th>\n",
              "      <th>Humidity</th>\n",
              "      <th>Light</th>\n",
              "      <th>CO2</th>\n",
              "      <th>HumidityRatio</th>\n",
              "      <th>Temp*Light</th>\n",
              "      <th>CO2*Temp</th>\n",
              "    </tr>\n",
              "  </thead>\n",
              "  <tbody>\n",
              "    <tr>\n",
              "      <th>0</th>\n",
              "      <td>1.423072e+18</td>\n",
              "      <td>23.18000</td>\n",
              "      <td>27.2720</td>\n",
              "      <td>426.0</td>\n",
              "      <td>721.25000</td>\n",
              "      <td>0.00479</td>\n",
              "      <td>9874.68000</td>\n",
              "      <td>16718.575000</td>\n",
              "    </tr>\n",
              "    <tr>\n",
              "      <th>1</th>\n",
              "      <td>1.423072e+18</td>\n",
              "      <td>23.15000</td>\n",
              "      <td>27.2675</td>\n",
              "      <td>429.5</td>\n",
              "      <td>714.00000</td>\n",
              "      <td>0.00478</td>\n",
              "      <td>9942.92500</td>\n",
              "      <td>16529.100000</td>\n",
              "    </tr>\n",
              "    <tr>\n",
              "      <th>2</th>\n",
              "      <td>1.423072e+18</td>\n",
              "      <td>20.57617</td>\n",
              "      <td>27.2450</td>\n",
              "      <td>426.0</td>\n",
              "      <td>604.03209</td>\n",
              "      <td>0.00478</td>\n",
              "      <td>8765.44842</td>\n",
              "      <td>12428.666969</td>\n",
              "    </tr>\n",
              "    <tr>\n",
              "      <th>3</th>\n",
              "      <td>1.423072e+18</td>\n",
              "      <td>23.15000</td>\n",
              "      <td>27.2000</td>\n",
              "      <td>426.0</td>\n",
              "      <td>708.25000</td>\n",
              "      <td>0.00477</td>\n",
              "      <td>9861.90000</td>\n",
              "      <td>16395.987500</td>\n",
              "    </tr>\n",
              "    <tr>\n",
              "      <th>4</th>\n",
              "      <td>1.423072e+18</td>\n",
              "      <td>20.57617</td>\n",
              "      <td>27.2000</td>\n",
              "      <td>426.0</td>\n",
              "      <td>604.03209</td>\n",
              "      <td>0.00476</td>\n",
              "      <td>8765.44842</td>\n",
              "      <td>12428.666969</td>\n",
              "    </tr>\n",
              "    <tr>\n",
              "      <th>...</th>\n",
              "      <td>...</td>\n",
              "      <td>...</td>\n",
              "      <td>...</td>\n",
              "      <td>...</td>\n",
              "      <td>...</td>\n",
              "      <td>...</td>\n",
              "      <td>...</td>\n",
              "      <td>...</td>\n",
              "    </tr>\n",
              "    <tr>\n",
              "      <th>8138</th>\n",
              "      <td>1.423561e+18</td>\n",
              "      <td>21.05000</td>\n",
              "      <td>36.0975</td>\n",
              "      <td>433.0</td>\n",
              "      <td>787.25000</td>\n",
              "      <td>0.00558</td>\n",
              "      <td>9114.65000</td>\n",
              "      <td>16571.612500</td>\n",
              "    </tr>\n",
              "    <tr>\n",
              "      <th>8139</th>\n",
              "      <td>1.423561e+18</td>\n",
              "      <td>21.05000</td>\n",
              "      <td>35.9950</td>\n",
              "      <td>433.0</td>\n",
              "      <td>789.50000</td>\n",
              "      <td>0.00556</td>\n",
              "      <td>9114.65000</td>\n",
              "      <td>16618.975000</td>\n",
              "    </tr>\n",
              "    <tr>\n",
              "      <th>8140</th>\n",
              "      <td>1.423561e+18</td>\n",
              "      <td>21.10000</td>\n",
              "      <td>36.0950</td>\n",
              "      <td>433.0</td>\n",
              "      <td>798.50000</td>\n",
              "      <td>0.00560</td>\n",
              "      <td>9136.30000</td>\n",
              "      <td>16848.350000</td>\n",
              "    </tr>\n",
              "    <tr>\n",
              "      <th>8141</th>\n",
              "      <td>1.423561e+18</td>\n",
              "      <td>21.10000</td>\n",
              "      <td>36.2600</td>\n",
              "      <td>433.0</td>\n",
              "      <td>820.33333</td>\n",
              "      <td>0.00562</td>\n",
              "      <td>9136.30000</td>\n",
              "      <td>17309.033263</td>\n",
              "    </tr>\n",
              "    <tr>\n",
              "      <th>8142</th>\n",
              "      <td>1.423561e+18</td>\n",
              "      <td>21.10000</td>\n",
              "      <td>36.2000</td>\n",
              "      <td>447.0</td>\n",
              "      <td>821.00000</td>\n",
              "      <td>0.00561</td>\n",
              "      <td>9431.70000</td>\n",
              "      <td>17323.100000</td>\n",
              "    </tr>\n",
              "  </tbody>\n",
              "</table>\n",
              "<p>8143 rows × 8 columns</p>\n",
              "</div>"
            ],
            "text/plain": [
              "              date  Temperature  ...  Temp*Light      CO2*Temp\n",
              "0     1.423072e+18     23.18000  ...  9874.68000  16718.575000\n",
              "1     1.423072e+18     23.15000  ...  9942.92500  16529.100000\n",
              "2     1.423072e+18     20.57617  ...  8765.44842  12428.666969\n",
              "3     1.423072e+18     23.15000  ...  9861.90000  16395.987500\n",
              "4     1.423072e+18     20.57617  ...  8765.44842  12428.666969\n",
              "...            ...          ...  ...         ...           ...\n",
              "8138  1.423561e+18     21.05000  ...  9114.65000  16571.612500\n",
              "8139  1.423561e+18     21.05000  ...  9114.65000  16618.975000\n",
              "8140  1.423561e+18     21.10000  ...  9136.30000  16848.350000\n",
              "8141  1.423561e+18     21.10000  ...  9136.30000  17309.033263\n",
              "8142  1.423561e+18     21.10000  ...  9431.70000  17323.100000\n",
              "\n",
              "[8143 rows x 8 columns]"
            ]
          },
          "metadata": {
            "tags": []
          },
          "execution_count": 29
        }
      ]
    },
    {
      "cell_type": "code",
      "metadata": {
        "scrolled": true,
        "id": "QRdcz4yR7oWZ",
        "colab": {
          "base_uri": "https://localhost:8080/"
        },
        "outputId": "4c966fa8-813e-4d05-f503-3c02e1f0697a"
      },
      "source": [
        "train_X_scaled_final = df_scaler(train_X,'Train')\n",
        "dev_X_scaled_final = df_scaler(dev_X,'Dev')\n",
        "test_X_scaled_final = df_scaler(test_X,'Test')"
      ],
      "execution_count": null,
      "outputs": [
        {
          "output_type": "stream",
          "text": [
            "Train is scaled successfully!\n",
            "Dev is scaled successfully!\n",
            "Test is scaled successfully!\n"
          ],
          "name": "stdout"
        }
      ]
    },
    {
      "cell_type": "code",
      "metadata": {
        "id": "sjKDBPuz7oWZ"
      },
      "source": [
        "train_ds = pd.merge(train_X_scaled_final,df_train_y,left_index=True,right_index=True)\n",
        "dev_ds = pd.merge(dev_X_scaled_final,df_dev_y,left_index=True,right_index=True)\n",
        "test_ds = pd.merge(test_X_scaled_final,df_test_y,left_index=True,right_index=True)"
      ],
      "execution_count": null,
      "outputs": []
    },
    {
      "cell_type": "code",
      "metadata": {
        "id": "_33sAzQM7oWa"
      },
      "source": [
        "def showAllCounts():\n",
        "    df_train_counts = list(df_train[df_train.columns].count())\n",
        "    df_dev_counts = list(df_dev[df_dev.columns].count())\n",
        "    df_test_counts = list(df_test[df_test.columns].count())\n",
        "    df_all_counts = [df_train_counts,df_dev_counts,df_test_counts]\n",
        "\n",
        "    colNames = df_train.columns\n",
        "\n",
        "    fig = plt.figure(figsize=(20,5))\n",
        "    plt.bar(colNames,df_all_counts[0],color='c',width=0.30,label='Train',align='center')\n",
        "    plt.bar(colNames,df_all_counts[1],color='m',width=0.25,label='Dev',align='edge')\n",
        "    plt.bar(colNames,df_all_counts[2],color='y',width=0.15,label='Test',align='edge')\n",
        "    plt.legend(loc='best')\n",
        "    plt.title('Dataset Feature Counts',size=16)\n",
        "    plt.xticks(size=16)\n",
        "    plt.yticks(size=16)\n",
        "    plt.show()"
      ],
      "execution_count": null,
      "outputs": []
    },
    {
      "cell_type": "code",
      "metadata": {
        "id": "YFfL3dHI7oWa",
        "colab": {
          "base_uri": "https://localhost:8080/",
          "height": 322
        },
        "outputId": "cd70fa0e-058c-4110-8d26-a9610e40233a"
      },
      "source": [
        "showAllCounts()"
      ],
      "execution_count": null,
      "outputs": [
        {
          "output_type": "display_data",
          "data": {
            "image/png": "[encoded data removed]",
            "text/plain": [
              "<Figure size 1440x360 with 1 Axes>"
            ]
          },
          "metadata": {
            "tags": [],
            "needs_background": "light"
          }
        }
      ]
    },
    {
      "cell_type": "code",
      "metadata": {
        "id": "FpP1h0n_7oWb"
      },
      "source": [
        "def showMissingRates():\n",
        "    missing_temp = df_train.Temperature.isna().sum()\n",
        "    missing_co2 = df_train.CO2.isna().sum()\n",
        "    missing_counts = df_train.isna().sum()\n",
        "    \n",
        "    all_missing = missing_temp + missing_co2\n",
        "    not_missing = len(df_train) - all_missing\n",
        "    \n",
        "    labels = ['Missing','Not Missing']\n",
        "    data = [all_missing,not_missing]\n",
        "    fig = plt.figure(figsize=(10,7))\n",
        "    plt.pie(data,labels=labels,shadow=True,autopct='%1.1f%%')\n",
        "    plt.title('Missing/Not Missing Rates',size=16)\n",
        "    plt.show()\n",
        "    \n",
        "    plt.bar(df_train.columns,missing_counts)\n",
        "    plt.xticks(rotation=90,size=15)\n",
        "    plt.yticks(size=15)\n",
        "    plt.title(\"Missings Counts\",size=15)\n",
        "    plt.show()"
      ],
      "execution_count": null,
      "outputs": []
    },
    {
      "cell_type": "code",
      "metadata": {
        "scrolled": true,
        "id": "hNYvirBA7oWb",
        "colab": {
          "base_uri": "https://localhost:8080/",
          "height": 792
        },
        "outputId": "dabc88dc-663c-493d-9d96-38d72bbf5d2c"
      },
      "source": [
        "showMissingRates()"
      ],
      "execution_count": null,
      "outputs": [
        {
          "output_type": "display_data",
          "data": {
            "image/png": "[encoded data removed]",
            "text/plain": [
              "<Figure size 720x504 with 1 Axes>"
            ]
          },
          "metadata": {
            "tags": []
          }
        },
        {
          "output_type": "display_data",
          "data": {
            "image/png": "[encoded data removed]",
            "text/plain": [
              "<Figure size 432x288 with 1 Axes>"
            ]
          },
          "metadata": {
            "tags": [],
            "needs_background": "light"
          }
        }
      ]
    },
    {
      "cell_type": "code",
      "metadata": {
        "id": "CO-l9fbd7oWc"
      },
      "source": [
        "train_corr = pd.merge(train_X,df_train_y,left_index=True,right_index=True).corr()\n",
        "dev_corr = pd.merge(dev_X,df_dev_y,left_index=True,right_index=True).corr()\n",
        "test_corr = pd.merge(test_X,df_test_y,left_index=True,right_index=True).corr()"
      ],
      "execution_count": null,
      "outputs": []
    },
    {
      "cell_type": "code",
      "metadata": {
        "id": "wUoGklTs7oWc"
      },
      "source": [
        "def correlationGraph(dataset,ds_name):\n",
        "    plt.figure(figsize=(12,8))\n",
        "    sns.heatmap(dataset,annot=True,linewidth=.5)\n",
        "    plt.title(f' Correlation of features in {ds_name} dataset', fontsize=16)"
      ],
      "execution_count": null,
      "outputs": []
    },
    {
      "cell_type": "code",
      "metadata": {
        "id": "JMql8fcl7oWc",
        "colab": {
          "base_uri": "https://localhost:8080/",
          "height": 562
        },
        "outputId": "0049278b-3158-4ac9-fa23-0a99edbdb1d3"
      },
      "source": [
        "correlationGraph(train_corr,'Train')"
      ],
      "execution_count": null,
      "outputs": [
        {
          "output_type": "display_data",
          "data": {
            "image/png": "[encoded data removed]",
            "text/plain": [
              "<Figure size 864x576 with 2 Axes>"
            ]
          },
          "metadata": {
            "tags": [],
            "needs_background": "light"
          }
        }
      ]
    },
    {
      "cell_type": "code",
      "metadata": {
        "id": "k7rEm07v7oWe",
        "colab": {
          "base_uri": "https://localhost:8080/",
          "height": 562
        },
        "outputId": "5db2e136-3ff4-4289-9378-f2e0c94eca5d"
      },
      "source": [
        "correlationGraph(dev_corr,'Dev')"
      ],
      "execution_count": null,
      "outputs": [
        {
          "output_type": "display_data",
          "data": {
            "image/png": "[encoded data removed]",
            "text/plain": [
              "<Figure size 864x576 with 2 Axes>"
            ]
          },
          "metadata": {
            "tags": [],
            "needs_background": "light"
          }
        }
      ]
    },
    {
      "cell_type": "code",
      "metadata": {
        "id": "mxMH7sjL7oWf",
        "colab": {
          "base_uri": "https://localhost:8080/",
          "height": 562
        },
        "outputId": "464bb7ff-5503-4f73-9497-d984cc00148b"
      },
      "source": [
        "#Correlation of test_X- features with each other.\n",
        "correlationGraph(test_corr,'Test')"
      ],
      "execution_count": null,
      "outputs": [
        {
          "output_type": "display_data",
          "data": {
            "image/png": "[encoded data removed]",
            "text/plain": [
              "<Figure size 864x576 with 2 Axes>"
            ]
          },
          "metadata": {
            "tags": [],
            "needs_background": "light"
          }
        }
      ]
    },
    {
      "cell_type": "code",
      "metadata": {
        "id": "kP6DHVsA7oWg",
        "colab": {
          "base_uri": "https://localhost:8080/",
          "height": 1000
        },
        "outputId": "8c8f2dc4-4674-49be-9d93-4a22b8650b77"
      },
      "source": [
        "def fonk(a,b):\n",
        "    not_missing = df_test[(df_test[a].notnull())]\n",
        "    not_missing.hist(column = a, by=b)\n",
        "    plt.xlabel(a)\n",
        "    plt.ylabel(b)\n",
        "    plt.suptitle(a + \" distribution according to room\" +b)\n",
        "fonk('CO2', 'Occupancy')\n",
        "fonk('Temperature', 'Occupancy')\n",
        "fonk('Light','Occupancy')\n",
        "fonk('Humidity', 'Occupancy')\n",
        "fonk('HumidityRatio', 'Occupancy')"
      ],
      "execution_count": null,
      "outputs": [
        {
          "output_type": "display_data",
          "data": {
            "image/png": "[encoded data removed]",
            "text/plain": [
              "<Figure size 432x288 with 2 Axes>"
            ]
          },
          "metadata": {
            "tags": [],
            "needs_background": "light"
          }
        },
        {
          "output_type": "display_data",
          "data": {
            "image/png": "[encoded data removed]",
            "text/plain": [
              "<Figure size 432x288 with 2 Axes>"
            ]
          },
          "metadata": {
            "tags": [],
            "needs_background": "light"
          }
        },
        {
          "output_type": "display_data",
          "data": {
            "image/png": "[encoded data removed]",
            "text/plain": [
              "<Figure size 432x288 with 2 Axes>"
            ]
          },
          "metadata": {
            "tags": [],
            "needs_background": "light"
          }
        },
        {
          "output_type": "display_data",
          "data": {
            "image/png": "[encoded data removed]",
            "text/plain": [
              "<Figure size 432x288 with 2 Axes>"
            ]
          },
          "metadata": {
            "tags": [],
            "needs_background": "light"
          }
        },
        {
          "output_type": "display_data",
          "data": {
            "image/png": "[encoded data removed]",
            "text/plain": [
              "<Figure size 432x288 with 2 Axes>"
            ]
          },
          "metadata": {
            "tags": [],
            "needs_background": "light"
          }
        }
      ]
    },
    {
      "cell_type": "code",
      "metadata": {
        "id": "q_PnN1727oWg",
        "colab": {
          "base_uri": "https://localhost:8080/"
        },
        "outputId": "db6af38d-76a9-478e-8c4c-c3945d1b8364"
      },
      "source": [
        "X_train = train_X_scaled_final\n",
        "y_train = df_train_y\n",
        "X_dev = dev_X_scaled_final\n",
        "y_dev = df_dev_y\n",
        "X_test = test_X_scaled_final\n",
        "y_test = df_test_y\n",
        "\n",
        "opt = Adam(learning_rate=1e-6)\n",
        "\n",
        "model = Sequential()\n",
        "model.add(Dense(20,input_dim=X_train.shape[1], activation = 'relu'))\n",
        "model.add(Dense(8,activation='relu'))\n",
        "model.add(Dense(1,activation = 'sigmoid'))\n",
        "model.compile(loss='binary_crossentropy',optimizer = opt,metrics=['accuracy'])\n",
        "model.summary()"
      ],
      "execution_count": null,
      "outputs": [
        {
          "output_type": "stream",
          "text": [
            "Model: \"sequential_1\"\n",
            "_________________________________________________________________\n",
            "Layer (type)                 Output Shape              Param #   \n",
            "=================================================================\n",
            "dense_4 (Dense)              (None, 20)                180       \n",
            "_________________________________________________________________\n",
            "dense_5 (Dense)              (None, 8)                 168       \n",
            "_________________________________________________________________\n",
            "dense_6 (Dense)              (None, 1)                 9         \n",
            "=================================================================\n",
            "Total params: 357\n",
            "Trainable params: 357\n",
            "Non-trainable params: 0\n",
            "_________________________________________________________________\n"
          ],
          "name": "stdout"
        }
      ]
    },
    {
      "cell_type": "code",
      "metadata": {
        "id": "qOp_VTOD7oWh",
        "colab": {
          "base_uri": "https://localhost:8080/"
        },
        "outputId": "8acdf1f3-520e-42dc-85a6-b0b85aed805e"
      },
      "source": [
        "history = model.fit(X_train,y_train,verbose=1,epochs=330,validation_data = (X_dev,y_dev))"
      ],
      "execution_count": null,
      "outputs": [
        {
          "output_type": "stream",
          "text": [
            "Epoch 1/330\n",
            "255/255 [==============================] - 1s 3ms/step - loss: 0.2427 - accuracy: 0.9854 - val_loss: 0.2515 - val_accuracy: 0.9730\n",
            "Epoch 2/330\n",
            "255/255 [==============================] - 1s 3ms/step - loss: 0.2420 - accuracy: 0.9854 - val_loss: 0.2510 - val_accuracy: 0.9726\n",
            "Epoch 3/330\n",
            "255/255 [==============================] - 1s 3ms/step - loss: 0.2414 - accuracy: 0.9854 - val_loss: 0.2505 - val_accuracy: 0.9726\n",
            "Epoch 4/330\n",
            "255/255 [==============================] - 1s 3ms/step - loss: 0.2407 - accuracy: 0.9856 - val_loss: 0.2499 - val_accuracy: 0.9726\n",
            "Epoch 5/330\n",
            "255/255 [==============================] - 1s 3ms/step - loss: 0.2400 - accuracy: 0.9856 - val_loss: 0.2494 - val_accuracy: 0.9726\n",
            "Epoch 6/330\n",
            "255/255 [==============================] - 1s 3ms/step - loss: 0.2393 - accuracy: 0.9858 - val_loss: 0.2489 - val_accuracy: 0.9726\n",
            "Epoch 7/330\n",
            "255/255 [==============================] - 1s 3ms/step - loss: 0.2387 - accuracy: 0.9859 - val_loss: 0.2484 - val_accuracy: 0.9726\n",
            "Epoch 8/330\n",
            "255/255 [==============================] - 1s 3ms/step - loss: 0.2380 - accuracy: 0.9859 - val_loss: 0.2479 - val_accuracy: 0.9722\n",
            "Epoch 9/330\n",
            "255/255 [==============================] - 1s 3ms/step - loss: 0.2373 - accuracy: 0.9859 - val_loss: 0.2473 - val_accuracy: 0.9719\n",
            "Epoch 10/330\n",
            "255/255 [==============================] - 1s 3ms/step - loss: 0.2366 - accuracy: 0.9859 - val_loss: 0.2468 - val_accuracy: 0.9719\n",
            "Epoch 11/330\n",
            "255/255 [==============================] - 1s 3ms/step - loss: 0.2360 - accuracy: 0.9859 - val_loss: 0.2463 - val_accuracy: 0.9715\n",
            "Epoch 12/330\n",
            "255/255 [==============================] - 1s 3ms/step - loss: 0.2353 - accuracy: 0.9859 - val_loss: 0.2458 - val_accuracy: 0.9715\n",
            "Epoch 13/330\n",
            "255/255 [==============================] - 1s 3ms/step - loss: 0.2347 - accuracy: 0.9859 - val_loss: 0.2453 - val_accuracy: 0.9715\n",
            "Epoch 14/330\n",
            "255/255 [==============================] - 1s 3ms/step - loss: 0.2340 - accuracy: 0.9861 - val_loss: 0.2448 - val_accuracy: 0.9711\n",
            "Epoch 15/330\n",
            "255/255 [==============================] - 1s 3ms/step - loss: 0.2333 - accuracy: 0.9861 - val_loss: 0.2443 - val_accuracy: 0.9707\n",
            "Epoch 16/330\n",
            "255/255 [==============================] - 1s 3ms/step - loss: 0.2327 - accuracy: 0.9861 - val_loss: 0.2438 - val_accuracy: 0.9704\n",
            "Epoch 17/330\n",
            "255/255 [==============================] - 1s 4ms/step - loss: 0.2320 - accuracy: 0.9861 - val_loss: 0.2433 - val_accuracy: 0.9704\n",
            "Epoch 18/330\n",
            "255/255 [==============================] - 1s 3ms/step - loss: 0.2314 - accuracy: 0.9861 - val_loss: 0.2428 - val_accuracy: 0.9704\n",
            "Epoch 19/330\n",
            "255/255 [==============================] - 1s 3ms/step - loss: 0.2307 - accuracy: 0.9861 - val_loss: 0.2423 - val_accuracy: 0.9700\n",
            "Epoch 20/330\n",
            "255/255 [==============================] - 1s 3ms/step - loss: 0.2301 - accuracy: 0.9861 - val_loss: 0.2418 - val_accuracy: 0.9700\n",
            "Epoch 21/330\n",
            "255/255 [==============================] - 1s 3ms/step - loss: 0.2294 - accuracy: 0.9861 - val_loss: 0.2413 - val_accuracy: 0.9696\n",
            "Epoch 22/330\n",
            "255/255 [==============================] - 1s 3ms/step - loss: 0.2288 - accuracy: 0.9861 - val_loss: 0.2408 - val_accuracy: 0.9692\n",
            "Epoch 23/330\n",
            "255/255 [==============================] - 1s 3ms/step - loss: 0.2281 - accuracy: 0.9861 - val_loss: 0.2403 - val_accuracy: 0.9692\n",
            "Epoch 24/330\n",
            "255/255 [==============================] - 1s 3ms/step - loss: 0.2275 - accuracy: 0.9861 - val_loss: 0.2398 - val_accuracy: 0.9692\n",
            "Epoch 25/330\n",
            "255/255 [==============================] - 1s 3ms/step - loss: 0.2268 - accuracy: 0.9861 - val_loss: 0.2393 - val_accuracy: 0.9692\n",
            "Epoch 26/330\n",
            "255/255 [==============================] - 1s 3ms/step - loss: 0.2262 - accuracy: 0.9861 - val_loss: 0.2388 - val_accuracy: 0.9689\n",
            "Epoch 27/330\n",
            "255/255 [==============================] - 1s 3ms/step - loss: 0.2256 - accuracy: 0.9861 - val_loss: 0.2383 - val_accuracy: 0.9685\n",
            "Epoch 28/330\n",
            "255/255 [==============================] - 1s 3ms/step - loss: 0.2249 - accuracy: 0.9861 - val_loss: 0.2378 - val_accuracy: 0.9685\n",
            "Epoch 29/330\n",
            "255/255 [==============================] - 1s 3ms/step - loss: 0.2243 - accuracy: 0.9861 - val_loss: 0.2373 - val_accuracy: 0.9685\n",
            "Epoch 30/330\n",
            "255/255 [==============================] - 1s 3ms/step - loss: 0.2236 - accuracy: 0.9861 - val_loss: 0.2369 - val_accuracy: 0.9685\n",
            "Epoch 31/330\n",
            "255/255 [==============================] - 1s 3ms/step - loss: 0.2230 - accuracy: 0.9861 - val_loss: 0.2364 - val_accuracy: 0.9685\n",
            "Epoch 32/330\n",
            "255/255 [==============================] - 1s 3ms/step - loss: 0.2224 - accuracy: 0.9862 - val_loss: 0.2359 - val_accuracy: 0.9685\n",
            "Epoch 33/330\n",
            "255/255 [==============================] - 1s 3ms/step - loss: 0.2218 - accuracy: 0.9862 - val_loss: 0.2354 - val_accuracy: 0.9685\n",
            "Epoch 34/330\n",
            "255/255 [==============================] - 1s 3ms/step - loss: 0.2211 - accuracy: 0.9862 - val_loss: 0.2349 - val_accuracy: 0.9681\n",
            "Epoch 35/330\n",
            "255/255 [==============================] - 1s 3ms/step - loss: 0.2205 - accuracy: 0.9862 - val_loss: 0.2345 - val_accuracy: 0.9677\n",
            "Epoch 36/330\n",
            "255/255 [==============================] - 1s 3ms/step - loss: 0.2199 - accuracy: 0.9862 - val_loss: 0.2340 - val_accuracy: 0.9677\n",
            "Epoch 37/330\n",
            "255/255 [==============================] - 1s 3ms/step - loss: 0.2193 - accuracy: 0.9862 - val_loss: 0.2335 - val_accuracy: 0.9677\n",
            "Epoch 38/330\n",
            "255/255 [==============================] - 1s 3ms/step - loss: 0.2186 - accuracy: 0.9862 - val_loss: 0.2330 - val_accuracy: 0.9674\n",
            "Epoch 39/330\n",
            "255/255 [==============================] - 1s 3ms/step - loss: 0.2180 - accuracy: 0.9864 - val_loss: 0.2326 - val_accuracy: 0.9674\n",
            "Epoch 40/330\n",
            "255/255 [==============================] - 1s 3ms/step - loss: 0.2174 - accuracy: 0.9864 - val_loss: 0.2321 - val_accuracy: 0.9674\n",
            "Epoch 41/330\n",
            "255/255 [==============================] - 1s 3ms/step - loss: 0.2168 - accuracy: 0.9864 - val_loss: 0.2316 - val_accuracy: 0.9670\n",
            "Epoch 42/330\n",
            "255/255 [==============================] - 1s 3ms/step - loss: 0.2162 - accuracy: 0.9864 - val_loss: 0.2312 - val_accuracy: 0.9666\n",
            "Epoch 43/330\n",
            "255/255 [==============================] - 1s 3ms/step - loss: 0.2156 - accuracy: 0.9865 - val_loss: 0.2307 - val_accuracy: 0.9662\n",
            "Epoch 44/330\n",
            "255/255 [==============================] - 1s 3ms/step - loss: 0.2150 - accuracy: 0.9865 - val_loss: 0.2302 - val_accuracy: 0.9659\n",
            "Epoch 45/330\n",
            "255/255 [==============================] - 1s 3ms/step - loss: 0.2144 - accuracy: 0.9865 - val_loss: 0.2297 - val_accuracy: 0.9647\n",
            "Epoch 46/330\n",
            "255/255 [==============================] - 1s 3ms/step - loss: 0.2137 - accuracy: 0.9865 - val_loss: 0.2293 - val_accuracy: 0.9644\n",
            "Epoch 47/330\n",
            "255/255 [==============================] - 1s 3ms/step - loss: 0.2131 - accuracy: 0.9865 - val_loss: 0.2288 - val_accuracy: 0.9640\n",
            "Epoch 48/330\n",
            "255/255 [==============================] - 1s 3ms/step - loss: 0.2125 - accuracy: 0.9865 - val_loss: 0.2284 - val_accuracy: 0.9636\n",
            "Epoch 49/330\n",
            "255/255 [==============================] - 1s 3ms/step - loss: 0.2119 - accuracy: 0.9865 - val_loss: 0.2279 - val_accuracy: 0.9636\n",
            "Epoch 50/330\n",
            "255/255 [==============================] - 1s 3ms/step - loss: 0.2113 - accuracy: 0.9865 - val_loss: 0.2274 - val_accuracy: 0.9625\n",
            "Epoch 51/330\n",
            "255/255 [==============================] - 1s 3ms/step - loss: 0.2107 - accuracy: 0.9866 - val_loss: 0.2270 - val_accuracy: 0.9625\n",
            "Epoch 52/330\n",
            "255/255 [==============================] - 1s 3ms/step - loss: 0.2102 - accuracy: 0.9866 - val_loss: 0.2265 - val_accuracy: 0.9625\n",
            "Epoch 53/330\n",
            "255/255 [==============================] - 1s 3ms/step - loss: 0.2096 - accuracy: 0.9866 - val_loss: 0.2261 - val_accuracy: 0.9625\n",
            "Epoch 54/330\n",
            "255/255 [==============================] - 1s 3ms/step - loss: 0.2090 - accuracy: 0.9866 - val_loss: 0.2256 - val_accuracy: 0.9625\n",
            "Epoch 55/330\n",
            "255/255 [==============================] - 1s 3ms/step - loss: 0.2084 - accuracy: 0.9866 - val_loss: 0.2252 - val_accuracy: 0.9625\n",
            "Epoch 56/330\n",
            "255/255 [==============================] - 1s 3ms/step - loss: 0.2078 - accuracy: 0.9866 - val_loss: 0.2247 - val_accuracy: 0.9621\n",
            "Epoch 57/330\n",
            "255/255 [==============================] - 1s 3ms/step - loss: 0.2072 - accuracy: 0.9866 - val_loss: 0.2242 - val_accuracy: 0.9621\n",
            "Epoch 58/330\n",
            "255/255 [==============================] - 1s 3ms/step - loss: 0.2066 - accuracy: 0.9866 - val_loss: 0.2238 - val_accuracy: 0.9621\n",
            "Epoch 59/330\n",
            "255/255 [==============================] - 1s 3ms/step - loss: 0.2060 - accuracy: 0.9866 - val_loss: 0.2233 - val_accuracy: 0.9621\n",
            "Epoch 60/330\n",
            "255/255 [==============================] - 1s 3ms/step - loss: 0.2055 - accuracy: 0.9867 - val_loss: 0.2229 - val_accuracy: 0.9621\n",
            "Epoch 61/330\n",
            "255/255 [==============================] - 1s 3ms/step - loss: 0.2049 - accuracy: 0.9867 - val_loss: 0.2224 - val_accuracy: 0.9621\n",
            "Epoch 62/330\n",
            "255/255 [==============================] - 1s 3ms/step - loss: 0.2043 - accuracy: 0.9867 - val_loss: 0.2220 - val_accuracy: 0.9621\n",
            "Epoch 63/330\n",
            "255/255 [==============================] - 1s 3ms/step - loss: 0.2037 - accuracy: 0.9867 - val_loss: 0.2216 - val_accuracy: 0.9617\n",
            "Epoch 64/330\n",
            "255/255 [==============================] - 1s 3ms/step - loss: 0.2031 - accuracy: 0.9866 - val_loss: 0.2211 - val_accuracy: 0.9617\n",
            "Epoch 65/330\n",
            "255/255 [==============================] - 1s 3ms/step - loss: 0.2026 - accuracy: 0.9866 - val_loss: 0.2207 - val_accuracy: 0.9617\n",
            "Epoch 66/330\n",
            "255/255 [==============================] - 1s 3ms/step - loss: 0.2020 - accuracy: 0.9866 - val_loss: 0.2202 - val_accuracy: 0.9617\n",
            "Epoch 67/330\n",
            "255/255 [==============================] - 1s 3ms/step - loss: 0.2014 - accuracy: 0.9866 - val_loss: 0.2198 - val_accuracy: 0.9617\n",
            "Epoch 68/330\n",
            "255/255 [==============================] - 1s 3ms/step - loss: 0.2009 - accuracy: 0.9866 - val_loss: 0.2193 - val_accuracy: 0.9617\n",
            "Epoch 69/330\n",
            "255/255 [==============================] - 1s 3ms/step - loss: 0.2003 - accuracy: 0.9866 - val_loss: 0.2189 - val_accuracy: 0.9617\n",
            "Epoch 70/330\n",
            "255/255 [==============================] - 1s 3ms/step - loss: 0.1997 - accuracy: 0.9866 - val_loss: 0.2185 - val_accuracy: 0.9617\n",
            "Epoch 71/330\n",
            "255/255 [==============================] - 1s 3ms/step - loss: 0.1992 - accuracy: 0.9866 - val_loss: 0.2180 - val_accuracy: 0.9617\n",
            "Epoch 72/330\n",
            "255/255 [==============================] - 1s 3ms/step - loss: 0.1986 - accuracy: 0.9866 - val_loss: 0.2176 - val_accuracy: 0.9617\n",
            "Epoch 73/330\n",
            "255/255 [==============================] - 1s 3ms/step - loss: 0.1980 - accuracy: 0.9866 - val_loss: 0.2172 - val_accuracy: 0.9617\n",
            "Epoch 74/330\n",
            "255/255 [==============================] - 1s 3ms/step - loss: 0.1975 - accuracy: 0.9866 - val_loss: 0.2167 - val_accuracy: 0.9617\n",
            "Epoch 75/330\n",
            "255/255 [==============================] - 1s 3ms/step - loss: 0.1969 - accuracy: 0.9866 - val_loss: 0.2163 - val_accuracy: 0.9617\n",
            "Epoch 76/330\n",
            "255/255 [==============================] - 1s 3ms/step - loss: 0.1964 - accuracy: 0.9866 - val_loss: 0.2159 - val_accuracy: 0.9617\n",
            "Epoch 77/330\n",
            "255/255 [==============================] - 1s 3ms/step - loss: 0.1958 - accuracy: 0.9866 - val_loss: 0.2155 - val_accuracy: 0.9617\n",
            "Epoch 78/330\n",
            "255/255 [==============================] - 1s 3ms/step - loss: 0.1952 - accuracy: 0.9866 - val_loss: 0.2150 - val_accuracy: 0.9617\n",
            "Epoch 79/330\n",
            "255/255 [==============================] - 1s 3ms/step - loss: 0.1947 - accuracy: 0.9866 - val_loss: 0.2146 - val_accuracy: 0.9614\n",
            "Epoch 80/330\n",
            "255/255 [==============================] - 1s 3ms/step - loss: 0.1941 - accuracy: 0.9866 - val_loss: 0.2142 - val_accuracy: 0.9614\n",
            "Epoch 81/330\n",
            "255/255 [==============================] - 1s 3ms/step - loss: 0.1936 - accuracy: 0.9866 - val_loss: 0.2138 - val_accuracy: 0.9614\n",
            "Epoch 82/330\n",
            "255/255 [==============================] - 1s 3ms/step - loss: 0.1930 - accuracy: 0.9867 - val_loss: 0.2133 - val_accuracy: 0.9614\n",
            "Epoch 83/330\n",
            "255/255 [==============================] - 1s 3ms/step - loss: 0.1925 - accuracy: 0.9867 - val_loss: 0.2129 - val_accuracy: 0.9614\n",
            "Epoch 84/330\n",
            "255/255 [==============================] - 1s 3ms/step - loss: 0.1920 - accuracy: 0.9867 - val_loss: 0.2125 - val_accuracy: 0.9614\n",
            "Epoch 85/330\n",
            "255/255 [==============================] - 1s 3ms/step - loss: 0.1914 - accuracy: 0.9867 - val_loss: 0.2121 - val_accuracy: 0.9610\n",
            "Epoch 86/330\n",
            "255/255 [==============================] - 1s 3ms/step - loss: 0.1909 - accuracy: 0.9867 - val_loss: 0.2117 - val_accuracy: 0.9610\n",
            "Epoch 87/330\n",
            "255/255 [==============================] - 1s 3ms/step - loss: 0.1903 - accuracy: 0.9867 - val_loss: 0.2112 - val_accuracy: 0.9610\n",
            "Epoch 88/330\n",
            "255/255 [==============================] - 1s 3ms/step - loss: 0.1898 - accuracy: 0.9869 - val_loss: 0.2108 - val_accuracy: 0.9610\n",
            "Epoch 89/330\n",
            "255/255 [==============================] - 1s 3ms/step - loss: 0.1893 - accuracy: 0.9869 - val_loss: 0.2104 - val_accuracy: 0.9610\n",
            "Epoch 90/330\n",
            "255/255 [==============================] - 1s 3ms/step - loss: 0.1887 - accuracy: 0.9869 - val_loss: 0.2100 - val_accuracy: 0.9610\n",
            "Epoch 91/330\n",
            "255/255 [==============================] - 1s 3ms/step - loss: 0.1882 - accuracy: 0.9870 - val_loss: 0.2096 - val_accuracy: 0.9610\n",
            "Epoch 92/330\n",
            "255/255 [==============================] - 1s 3ms/step - loss: 0.1877 - accuracy: 0.9870 - val_loss: 0.2092 - val_accuracy: 0.9610\n",
            "Epoch 93/330\n",
            "255/255 [==============================] - 1s 3ms/step - loss: 0.1871 - accuracy: 0.9870 - val_loss: 0.2088 - val_accuracy: 0.9610\n",
            "Epoch 94/330\n",
            "255/255 [==============================] - 1s 3ms/step - loss: 0.1866 - accuracy: 0.9870 - val_loss: 0.2084 - val_accuracy: 0.9610\n",
            "Epoch 95/330\n",
            "255/255 [==============================] - 1s 3ms/step - loss: 0.1861 - accuracy: 0.9870 - val_loss: 0.2080 - val_accuracy: 0.9606\n",
            "Epoch 96/330\n",
            "255/255 [==============================] - 1s 3ms/step - loss: 0.1855 - accuracy: 0.9870 - val_loss: 0.2076 - val_accuracy: 0.9606\n",
            "Epoch 97/330\n",
            "255/255 [==============================] - 1s 3ms/step - loss: 0.1850 - accuracy: 0.9870 - val_loss: 0.2072 - val_accuracy: 0.9606\n",
            "Epoch 98/330\n",
            "255/255 [==============================] - 1s 3ms/step - loss: 0.1845 - accuracy: 0.9871 - val_loss: 0.2068 - val_accuracy: 0.9606\n",
            "Epoch 99/330\n",
            "255/255 [==============================] - 1s 3ms/step - loss: 0.1840 - accuracy: 0.9871 - val_loss: 0.2063 - val_accuracy: 0.9606\n",
            "Epoch 100/330\n",
            "255/255 [==============================] - 1s 3ms/step - loss: 0.1835 - accuracy: 0.9872 - val_loss: 0.2060 - val_accuracy: 0.9606\n",
            "Epoch 101/330\n",
            "255/255 [==============================] - 1s 3ms/step - loss: 0.1829 - accuracy: 0.9872 - val_loss: 0.2056 - val_accuracy: 0.9606\n",
            "Epoch 102/330\n",
            "255/255 [==============================] - 1s 3ms/step - loss: 0.1824 - accuracy: 0.9872 - val_loss: 0.2052 - val_accuracy: 0.9606\n",
            "Epoch 103/330\n",
            "255/255 [==============================] - 1s 3ms/step - loss: 0.1819 - accuracy: 0.9874 - val_loss: 0.2048 - val_accuracy: 0.9606\n",
            "Epoch 104/330\n",
            "255/255 [==============================] - 1s 3ms/step - loss: 0.1814 - accuracy: 0.9874 - val_loss: 0.2044 - val_accuracy: 0.9602\n",
            "Epoch 105/330\n",
            "255/255 [==============================] - 1s 3ms/step - loss: 0.1809 - accuracy: 0.9874 - val_loss: 0.2040 - val_accuracy: 0.9602\n",
            "Epoch 106/330\n",
            "255/255 [==============================] - 1s 3ms/step - loss: 0.1804 - accuracy: 0.9874 - val_loss: 0.2036 - val_accuracy: 0.9602\n",
            "Epoch 107/330\n",
            "255/255 [==============================] - 1s 3ms/step - loss: 0.1799 - accuracy: 0.9874 - val_loss: 0.2032 - val_accuracy: 0.9602\n",
            "Epoch 108/330\n",
            "255/255 [==============================] - 1s 3ms/step - loss: 0.1794 - accuracy: 0.9874 - val_loss: 0.2028 - val_accuracy: 0.9602\n",
            "Epoch 109/330\n",
            "255/255 [==============================] - 1s 3ms/step - loss: 0.1789 - accuracy: 0.9874 - val_loss: 0.2024 - val_accuracy: 0.9602\n",
            "Epoch 110/330\n",
            "255/255 [==============================] - 1s 3ms/step - loss: 0.1783 - accuracy: 0.9875 - val_loss: 0.2020 - val_accuracy: 0.9602\n",
            "Epoch 111/330\n",
            "255/255 [==============================] - 1s 3ms/step - loss: 0.1778 - accuracy: 0.9875 - val_loss: 0.2017 - val_accuracy: 0.9602\n",
            "Epoch 112/330\n",
            "255/255 [==============================] - 1s 3ms/step - loss: 0.1773 - accuracy: 0.9875 - val_loss: 0.2013 - val_accuracy: 0.9602\n",
            "Epoch 113/330\n",
            "255/255 [==============================] - 1s 3ms/step - loss: 0.1768 - accuracy: 0.9876 - val_loss: 0.2009 - val_accuracy: 0.9602\n",
            "Epoch 114/330\n",
            "255/255 [==============================] - 1s 3ms/step - loss: 0.1763 - accuracy: 0.9876 - val_loss: 0.2005 - val_accuracy: 0.9602\n",
            "Epoch 115/330\n",
            "255/255 [==============================] - 1s 3ms/step - loss: 0.1758 - accuracy: 0.9876 - val_loss: 0.2001 - val_accuracy: 0.9602\n",
            "Epoch 116/330\n",
            "255/255 [==============================] - 1s 3ms/step - loss: 0.1753 - accuracy: 0.9876 - val_loss: 0.1998 - val_accuracy: 0.9602\n",
            "Epoch 117/330\n",
            "255/255 [==============================] - 1s 3ms/step - loss: 0.1749 - accuracy: 0.9876 - val_loss: 0.1994 - val_accuracy: 0.9602\n",
            "Epoch 118/330\n",
            "255/255 [==============================] - 1s 3ms/step - loss: 0.1744 - accuracy: 0.9877 - val_loss: 0.1990 - val_accuracy: 0.9602\n",
            "Epoch 119/330\n",
            "255/255 [==============================] - 1s 3ms/step - loss: 0.1739 - accuracy: 0.9877 - val_loss: 0.1986 - val_accuracy: 0.9598\n",
            "Epoch 120/330\n",
            "255/255 [==============================] - 1s 3ms/step - loss: 0.1734 - accuracy: 0.9877 - val_loss: 0.1983 - val_accuracy: 0.9598\n",
            "Epoch 121/330\n",
            "255/255 [==============================] - 1s 3ms/step - loss: 0.1729 - accuracy: 0.9877 - val_loss: 0.1979 - val_accuracy: 0.9598\n",
            "Epoch 122/330\n",
            "255/255 [==============================] - 1s 3ms/step - loss: 0.1724 - accuracy: 0.9877 - val_loss: 0.1975 - val_accuracy: 0.9598\n",
            "Epoch 123/330\n",
            "255/255 [==============================] - 1s 3ms/step - loss: 0.1719 - accuracy: 0.9877 - val_loss: 0.1971 - val_accuracy: 0.9598\n",
            "Epoch 124/330\n",
            "255/255 [==============================] - 1s 3ms/step - loss: 0.1714 - accuracy: 0.9877 - val_loss: 0.1968 - val_accuracy: 0.9598\n",
            "Epoch 125/330\n",
            "255/255 [==============================] - 1s 3ms/step - loss: 0.1710 - accuracy: 0.9877 - val_loss: 0.1964 - val_accuracy: 0.9595\n",
            "Epoch 126/330\n",
            "255/255 [==============================] - 1s 3ms/step - loss: 0.1705 - accuracy: 0.9877 - val_loss: 0.1960 - val_accuracy: 0.9595\n",
            "Epoch 127/330\n",
            "255/255 [==============================] - 1s 3ms/step - loss: 0.1700 - accuracy: 0.9877 - val_loss: 0.1957 - val_accuracy: 0.9591\n",
            "Epoch 128/330\n",
            "255/255 [==============================] - 1s 3ms/step - loss: 0.1695 - accuracy: 0.9877 - val_loss: 0.1953 - val_accuracy: 0.9591\n",
            "Epoch 129/330\n",
            "255/255 [==============================] - 1s 3ms/step - loss: 0.1690 - accuracy: 0.9877 - val_loss: 0.1950 - val_accuracy: 0.9591\n",
            "Epoch 130/330\n",
            "255/255 [==============================] - 1s 3ms/step - loss: 0.1686 - accuracy: 0.9877 - val_loss: 0.1946 - val_accuracy: 0.9591\n",
            "Epoch 131/330\n",
            "255/255 [==============================] - 1s 3ms/step - loss: 0.1681 - accuracy: 0.9877 - val_loss: 0.1942 - val_accuracy: 0.9591\n",
            "Epoch 132/330\n",
            "255/255 [==============================] - 1s 3ms/step - loss: 0.1676 - accuracy: 0.9877 - val_loss: 0.1939 - val_accuracy: 0.9591\n",
            "Epoch 133/330\n",
            "255/255 [==============================] - 1s 3ms/step - loss: 0.1671 - accuracy: 0.9877 - val_loss: 0.1935 - val_accuracy: 0.9591\n",
            "Epoch 134/330\n",
            "255/255 [==============================] - 1s 3ms/step - loss: 0.1667 - accuracy: 0.9877 - val_loss: 0.1932 - val_accuracy: 0.9591\n",
            "Epoch 135/330\n",
            "255/255 [==============================] - 1s 3ms/step - loss: 0.1662 - accuracy: 0.9877 - val_loss: 0.1928 - val_accuracy: 0.9587\n",
            "Epoch 136/330\n",
            "255/255 [==============================] - 1s 3ms/step - loss: 0.1657 - accuracy: 0.9877 - val_loss: 0.1924 - val_accuracy: 0.9587\n",
            "Epoch 137/330\n",
            "255/255 [==============================] - 1s 3ms/step - loss: 0.1653 - accuracy: 0.9877 - val_loss: 0.1921 - val_accuracy: 0.9587\n",
            "Epoch 138/330\n",
            "255/255 [==============================] - 1s 3ms/step - loss: 0.1648 - accuracy: 0.9877 - val_loss: 0.1917 - val_accuracy: 0.9587\n",
            "Epoch 139/330\n",
            "255/255 [==============================] - 1s 3ms/step - loss: 0.1643 - accuracy: 0.9877 - val_loss: 0.1914 - val_accuracy: 0.9587\n",
            "Epoch 140/330\n",
            "255/255 [==============================] - 1s 3ms/step - loss: 0.1639 - accuracy: 0.9877 - val_loss: 0.1910 - val_accuracy: 0.9587\n",
            "Epoch 141/330\n",
            "255/255 [==============================] - 1s 3ms/step - loss: 0.1634 - accuracy: 0.9877 - val_loss: 0.1907 - val_accuracy: 0.9587\n",
            "Epoch 142/330\n",
            "255/255 [==============================] - 1s 3ms/step - loss: 0.1630 - accuracy: 0.9877 - val_loss: 0.1903 - val_accuracy: 0.9587\n",
            "Epoch 143/330\n",
            "255/255 [==============================] - 1s 3ms/step - loss: 0.1625 - accuracy: 0.9877 - val_loss: 0.1900 - val_accuracy: 0.9583\n",
            "Epoch 144/330\n",
            "255/255 [==============================] - 1s 3ms/step - loss: 0.1621 - accuracy: 0.9877 - val_loss: 0.1897 - val_accuracy: 0.9583\n",
            "Epoch 145/330\n",
            "255/255 [==============================] - 1s 3ms/step - loss: 0.1616 - accuracy: 0.9878 - val_loss: 0.1893 - val_accuracy: 0.9583\n",
            "Epoch 146/330\n",
            "255/255 [==============================] - 1s 3ms/step - loss: 0.1611 - accuracy: 0.9880 - val_loss: 0.1890 - val_accuracy: 0.9583\n",
            "Epoch 147/330\n",
            "255/255 [==============================] - 1s 3ms/step - loss: 0.1607 - accuracy: 0.9880 - val_loss: 0.1886 - val_accuracy: 0.9583\n",
            "Epoch 148/330\n",
            "255/255 [==============================] - 1s 3ms/step - loss: 0.1602 - accuracy: 0.9881 - val_loss: 0.1883 - val_accuracy: 0.9583\n",
            "Epoch 149/330\n",
            "255/255 [==============================] - 1s 3ms/step - loss: 0.1598 - accuracy: 0.9881 - val_loss: 0.1880 - val_accuracy: 0.9583\n",
            "Epoch 150/330\n",
            "255/255 [==============================] - 1s 3ms/step - loss: 0.1593 - accuracy: 0.9881 - val_loss: 0.1876 - val_accuracy: 0.9583\n",
            "Epoch 151/330\n",
            "255/255 [==============================] - 1s 3ms/step - loss: 0.1589 - accuracy: 0.9881 - val_loss: 0.1873 - val_accuracy: 0.9583\n",
            "Epoch 152/330\n",
            "255/255 [==============================] - 1s 3ms/step - loss: 0.1585 - accuracy: 0.9882 - val_loss: 0.1869 - val_accuracy: 0.9583\n",
            "Epoch 153/330\n",
            "255/255 [==============================] - 1s 3ms/step - loss: 0.1580 - accuracy: 0.9882 - val_loss: 0.1866 - val_accuracy: 0.9583\n",
            "Epoch 154/330\n",
            "255/255 [==============================] - 1s 3ms/step - loss: 0.1576 - accuracy: 0.9882 - val_loss: 0.1863 - val_accuracy: 0.9583\n",
            "Epoch 155/330\n",
            "255/255 [==============================] - 1s 3ms/step - loss: 0.1571 - accuracy: 0.9882 - val_loss: 0.1860 - val_accuracy: 0.9583\n",
            "Epoch 156/330\n",
            "255/255 [==============================] - 1s 3ms/step - loss: 0.1567 - accuracy: 0.9882 - val_loss: 0.1856 - val_accuracy: 0.9583\n",
            "Epoch 157/330\n",
            "255/255 [==============================] - 1s 3ms/step - loss: 0.1563 - accuracy: 0.9882 - val_loss: 0.1853 - val_accuracy: 0.9583\n",
            "Epoch 158/330\n",
            "255/255 [==============================] - 1s 3ms/step - loss: 0.1558 - accuracy: 0.9882 - val_loss: 0.1850 - val_accuracy: 0.9583\n",
            "Epoch 159/330\n",
            "255/255 [==============================] - 1s 3ms/step - loss: 0.1554 - accuracy: 0.9882 - val_loss: 0.1847 - val_accuracy: 0.9583\n",
            "Epoch 160/330\n",
            "255/255 [==============================] - 1s 3ms/step - loss: 0.1550 - accuracy: 0.9883 - val_loss: 0.1843 - val_accuracy: 0.9580\n",
            "Epoch 161/330\n",
            "255/255 [==============================] - 1s 3ms/step - loss: 0.1545 - accuracy: 0.9883 - val_loss: 0.1840 - val_accuracy: 0.9580\n",
            "Epoch 162/330\n",
            "255/255 [==============================] - 1s 3ms/step - loss: 0.1541 - accuracy: 0.9883 - val_loss: 0.1837 - val_accuracy: 0.9580\n",
            "Epoch 163/330\n",
            "255/255 [==============================] - 1s 3ms/step - loss: 0.1537 - accuracy: 0.9883 - val_loss: 0.1834 - val_accuracy: 0.9576\n",
            "Epoch 164/330\n",
            "255/255 [==============================] - 1s 3ms/step - loss: 0.1532 - accuracy: 0.9883 - val_loss: 0.1830 - val_accuracy: 0.9576\n",
            "Epoch 165/330\n",
            "255/255 [==============================] - 1s 3ms/step - loss: 0.1528 - accuracy: 0.9883 - val_loss: 0.1827 - val_accuracy: 0.9576\n",
            "Epoch 166/330\n",
            "255/255 [==============================] - 1s 3ms/step - loss: 0.1524 - accuracy: 0.9883 - val_loss: 0.1824 - val_accuracy: 0.9576\n",
            "Epoch 167/330\n",
            "255/255 [==============================] - 1s 3ms/step - loss: 0.1520 - accuracy: 0.9883 - val_loss: 0.1821 - val_accuracy: 0.9576\n",
            "Epoch 168/330\n",
            "255/255 [==============================] - 1s 3ms/step - loss: 0.1515 - accuracy: 0.9883 - val_loss: 0.1818 - val_accuracy: 0.9572\n",
            "Epoch 169/330\n",
            "255/255 [==============================] - 1s 3ms/step - loss: 0.1511 - accuracy: 0.9883 - val_loss: 0.1815 - val_accuracy: 0.9572\n",
            "Epoch 170/330\n",
            "255/255 [==============================] - 1s 3ms/step - loss: 0.1507 - accuracy: 0.9883 - val_loss: 0.1812 - val_accuracy: 0.9572\n",
            "Epoch 171/330\n",
            "255/255 [==============================] - 1s 3ms/step - loss: 0.1503 - accuracy: 0.9883 - val_loss: 0.1808 - val_accuracy: 0.9572\n",
            "Epoch 172/330\n",
            "255/255 [==============================] - 1s 3ms/step - loss: 0.1499 - accuracy: 0.9883 - val_loss: 0.1805 - val_accuracy: 0.9568\n",
            "Epoch 173/330\n",
            "255/255 [==============================] - 1s 3ms/step - loss: 0.1494 - accuracy: 0.9883 - val_loss: 0.1802 - val_accuracy: 0.9565\n",
            "Epoch 174/330\n",
            "255/255 [==============================] - 1s 3ms/step - loss: 0.1490 - accuracy: 0.9883 - val_loss: 0.1799 - val_accuracy: 0.9565\n",
            "Epoch 175/330\n",
            "255/255 [==============================] - 1s 3ms/step - loss: 0.1486 - accuracy: 0.9883 - val_loss: 0.1796 - val_accuracy: 0.9565\n",
            "Epoch 176/330\n",
            "255/255 [==============================] - 1s 3ms/step - loss: 0.1482 - accuracy: 0.9883 - val_loss: 0.1793 - val_accuracy: 0.9565\n",
            "Epoch 177/330\n",
            "255/255 [==============================] - 1s 3ms/step - loss: 0.1478 - accuracy: 0.9883 - val_loss: 0.1790 - val_accuracy: 0.9565\n",
            "Epoch 178/330\n",
            "255/255 [==============================] - 1s 3ms/step - loss: 0.1474 - accuracy: 0.9883 - val_loss: 0.1787 - val_accuracy: 0.9565\n",
            "Epoch 179/330\n",
            "255/255 [==============================] - 1s 3ms/step - loss: 0.1470 - accuracy: 0.9883 - val_loss: 0.1784 - val_accuracy: 0.9565\n",
            "Epoch 180/330\n",
            "255/255 [==============================] - 1s 3ms/step - loss: 0.1466 - accuracy: 0.9883 - val_loss: 0.1781 - val_accuracy: 0.9565\n",
            "Epoch 181/330\n",
            "255/255 [==============================] - 1s 3ms/step - loss: 0.1462 - accuracy: 0.9883 - val_loss: 0.1778 - val_accuracy: 0.9565\n",
            "Epoch 182/330\n",
            "255/255 [==============================] - 1s 3ms/step - loss: 0.1458 - accuracy: 0.9883 - val_loss: 0.1775 - val_accuracy: 0.9565\n",
            "Epoch 183/330\n",
            "255/255 [==============================] - 1s 3ms/step - loss: 0.1454 - accuracy: 0.9883 - val_loss: 0.1772 - val_accuracy: 0.9565\n",
            "Epoch 184/330\n",
            "255/255 [==============================] - 1s 3ms/step - loss: 0.1449 - accuracy: 0.9883 - val_loss: 0.1769 - val_accuracy: 0.9565\n",
            "Epoch 185/330\n",
            "255/255 [==============================] - 1s 3ms/step - loss: 0.1445 - accuracy: 0.9883 - val_loss: 0.1766 - val_accuracy: 0.9565\n",
            "Epoch 186/330\n",
            "255/255 [==============================] - 1s 3ms/step - loss: 0.1441 - accuracy: 0.9883 - val_loss: 0.1764 - val_accuracy: 0.9565\n",
            "Epoch 187/330\n",
            "255/255 [==============================] - 1s 3ms/step - loss: 0.1437 - accuracy: 0.9883 - val_loss: 0.1761 - val_accuracy: 0.9565\n",
            "Epoch 188/330\n",
            "255/255 [==============================] - 1s 3ms/step - loss: 0.1433 - accuracy: 0.9883 - val_loss: 0.1758 - val_accuracy: 0.9565\n",
            "Epoch 189/330\n",
            "255/255 [==============================] - 1s 3ms/step - loss: 0.1430 - accuracy: 0.9883 - val_loss: 0.1755 - val_accuracy: 0.9557\n",
            "Epoch 190/330\n",
            "255/255 [==============================] - 1s 3ms/step - loss: 0.1426 - accuracy: 0.9883 - val_loss: 0.1752 - val_accuracy: 0.9557\n",
            "Epoch 191/330\n",
            "255/255 [==============================] - 1s 3ms/step - loss: 0.1422 - accuracy: 0.9883 - val_loss: 0.1749 - val_accuracy: 0.9557\n",
            "Epoch 192/330\n",
            "255/255 [==============================] - 1s 3ms/step - loss: 0.1418 - accuracy: 0.9883 - val_loss: 0.1746 - val_accuracy: 0.9557\n",
            "Epoch 193/330\n",
            "255/255 [==============================] - 1s 3ms/step - loss: 0.1414 - accuracy: 0.9883 - val_loss: 0.1743 - val_accuracy: 0.9557\n",
            "Epoch 194/330\n",
            "255/255 [==============================] - 1s 3ms/step - loss: 0.1410 - accuracy: 0.9883 - val_loss: 0.1741 - val_accuracy: 0.9557\n",
            "Epoch 195/330\n",
            "255/255 [==============================] - 1s 3ms/step - loss: 0.1406 - accuracy: 0.9883 - val_loss: 0.1738 - val_accuracy: 0.9557\n",
            "Epoch 196/330\n",
            "255/255 [==============================] - 1s 3ms/step - loss: 0.1402 - accuracy: 0.9883 - val_loss: 0.1735 - val_accuracy: 0.9557\n",
            "Epoch 197/330\n",
            "255/255 [==============================] - 1s 3ms/step - loss: 0.1398 - accuracy: 0.9883 - val_loss: 0.1732 - val_accuracy: 0.9557\n",
            "Epoch 198/330\n",
            "255/255 [==============================] - 1s 3ms/step - loss: 0.1394 - accuracy: 0.9883 - val_loss: 0.1730 - val_accuracy: 0.9557\n",
            "Epoch 199/330\n",
            "255/255 [==============================] - 1s 3ms/step - loss: 0.1391 - accuracy: 0.9883 - val_loss: 0.1727 - val_accuracy: 0.9557\n",
            "Epoch 200/330\n",
            "255/255 [==============================] - 1s 3ms/step - loss: 0.1387 - accuracy: 0.9883 - val_loss: 0.1724 - val_accuracy: 0.9553\n",
            "Epoch 201/330\n",
            "255/255 [==============================] - 1s 3ms/step - loss: 0.1383 - accuracy: 0.9883 - val_loss: 0.1721 - val_accuracy: 0.9550\n",
            "Epoch 202/330\n",
            "255/255 [==============================] - 1s 3ms/step - loss: 0.1379 - accuracy: 0.9885 - val_loss: 0.1719 - val_accuracy: 0.9550\n",
            "Epoch 203/330\n",
            "255/255 [==============================] - 1s 3ms/step - loss: 0.1375 - accuracy: 0.9885 - val_loss: 0.1716 - val_accuracy: 0.9550\n",
            "Epoch 204/330\n",
            "255/255 [==============================] - 1s 3ms/step - loss: 0.1372 - accuracy: 0.9885 - val_loss: 0.1713 - val_accuracy: 0.9550\n",
            "Epoch 205/330\n",
            "255/255 [==============================] - 1s 3ms/step - loss: 0.1368 - accuracy: 0.9885 - val_loss: 0.1711 - val_accuracy: 0.9550\n",
            "Epoch 206/330\n",
            "255/255 [==============================] - 1s 3ms/step - loss: 0.1364 - accuracy: 0.9885 - val_loss: 0.1708 - val_accuracy: 0.9542\n",
            "Epoch 207/330\n",
            "255/255 [==============================] - 1s 3ms/step - loss: 0.1360 - accuracy: 0.9885 - val_loss: 0.1705 - val_accuracy: 0.9542\n",
            "Epoch 208/330\n",
            "255/255 [==============================] - 1s 3ms/step - loss: 0.1357 - accuracy: 0.9885 - val_loss: 0.1702 - val_accuracy: 0.9542\n",
            "Epoch 209/330\n",
            "255/255 [==============================] - 1s 3ms/step - loss: 0.1353 - accuracy: 0.9885 - val_loss: 0.1700 - val_accuracy: 0.9542\n",
            "Epoch 210/330\n",
            "255/255 [==============================] - 1s 3ms/step - loss: 0.1349 - accuracy: 0.9885 - val_loss: 0.1697 - val_accuracy: 0.9542\n",
            "Epoch 211/330\n",
            "255/255 [==============================] - 1s 3ms/step - loss: 0.1345 - accuracy: 0.9885 - val_loss: 0.1695 - val_accuracy: 0.9542\n",
            "Epoch 212/330\n",
            "255/255 [==============================] - 1s 3ms/step - loss: 0.1342 - accuracy: 0.9885 - val_loss: 0.1692 - val_accuracy: 0.9542\n",
            "Epoch 213/330\n",
            "255/255 [==============================] - 1s 3ms/step - loss: 0.1338 - accuracy: 0.9885 - val_loss: 0.1689 - val_accuracy: 0.9542\n",
            "Epoch 214/330\n",
            "255/255 [==============================] - 1s 3ms/step - loss: 0.1334 - accuracy: 0.9885 - val_loss: 0.1687 - val_accuracy: 0.9542\n",
            "Epoch 215/330\n",
            "255/255 [==============================] - 1s 3ms/step - loss: 0.1331 - accuracy: 0.9885 - val_loss: 0.1684 - val_accuracy: 0.9538\n",
            "Epoch 216/330\n",
            "255/255 [==============================] - 1s 3ms/step - loss: 0.1327 - accuracy: 0.9885 - val_loss: 0.1681 - val_accuracy: 0.9538\n",
            "Epoch 217/330\n",
            "255/255 [==============================] - 1s 3ms/step - loss: 0.1323 - accuracy: 0.9885 - val_loss: 0.1679 - val_accuracy: 0.9538\n",
            "Epoch 218/330\n",
            "255/255 [==============================] - 1s 3ms/step - loss: 0.1320 - accuracy: 0.9885 - val_loss: 0.1676 - val_accuracy: 0.9538\n",
            "Epoch 219/330\n",
            "255/255 [==============================] - 1s 3ms/step - loss: 0.1316 - accuracy: 0.9885 - val_loss: 0.1674 - val_accuracy: 0.9538\n",
            "Epoch 220/330\n",
            "255/255 [==============================] - 1s 3ms/step - loss: 0.1313 - accuracy: 0.9885 - val_loss: 0.1671 - val_accuracy: 0.9538\n",
            "Epoch 221/330\n",
            "255/255 [==============================] - 1s 3ms/step - loss: 0.1309 - accuracy: 0.9885 - val_loss: 0.1669 - val_accuracy: 0.9538\n",
            "Epoch 222/330\n",
            "255/255 [==============================] - 1s 3ms/step - loss: 0.1306 - accuracy: 0.9885 - val_loss: 0.1666 - val_accuracy: 0.9538\n",
            "Epoch 223/330\n",
            "255/255 [==============================] - 1s 3ms/step - loss: 0.1302 - accuracy: 0.9885 - val_loss: 0.1664 - val_accuracy: 0.9538\n",
            "Epoch 224/330\n",
            "255/255 [==============================] - 1s 3ms/step - loss: 0.1298 - accuracy: 0.9885 - val_loss: 0.1661 - val_accuracy: 0.9538\n",
            "Epoch 225/330\n",
            "255/255 [==============================] - 1s 3ms/step - loss: 0.1295 - accuracy: 0.9885 - val_loss: 0.1659 - val_accuracy: 0.9538\n",
            "Epoch 226/330\n",
            "255/255 [==============================] - 1s 3ms/step - loss: 0.1291 - accuracy: 0.9885 - val_loss: 0.1656 - val_accuracy: 0.9538\n",
            "Epoch 227/330\n",
            "255/255 [==============================] - 1s 3ms/step - loss: 0.1288 - accuracy: 0.9885 - val_loss: 0.1654 - val_accuracy: 0.9535\n",
            "Epoch 228/330\n",
            "255/255 [==============================] - 1s 3ms/step - loss: 0.1284 - accuracy: 0.9885 - val_loss: 0.1651 - val_accuracy: 0.9535\n",
            "Epoch 229/330\n",
            "255/255 [==============================] - 1s 3ms/step - loss: 0.1281 - accuracy: 0.9885 - val_loss: 0.1649 - val_accuracy: 0.9535\n",
            "Epoch 230/330\n",
            "255/255 [==============================] - 1s 3ms/step - loss: 0.1277 - accuracy: 0.9885 - val_loss: 0.1646 - val_accuracy: 0.9535\n",
            "Epoch 231/330\n",
            "255/255 [==============================] - 1s 3ms/step - loss: 0.1274 - accuracy: 0.9885 - val_loss: 0.1644 - val_accuracy: 0.9535\n",
            "Epoch 232/330\n",
            "255/255 [==============================] - 1s 3ms/step - loss: 0.1271 - accuracy: 0.9885 - val_loss: 0.1642 - val_accuracy: 0.9535\n",
            "Epoch 233/330\n",
            "255/255 [==============================] - 1s 3ms/step - loss: 0.1267 - accuracy: 0.9885 - val_loss: 0.1639 - val_accuracy: 0.9535\n",
            "Epoch 234/330\n",
            "255/255 [==============================] - 1s 3ms/step - loss: 0.1264 - accuracy: 0.9885 - val_loss: 0.1637 - val_accuracy: 0.9535\n",
            "Epoch 235/330\n",
            "255/255 [==============================] - 1s 3ms/step - loss: 0.1260 - accuracy: 0.9885 - val_loss: 0.1634 - val_accuracy: 0.9535\n",
            "Epoch 236/330\n",
            "255/255 [==============================] - 1s 3ms/step - loss: 0.1257 - accuracy: 0.9885 - val_loss: 0.1632 - val_accuracy: 0.9531\n",
            "Epoch 237/330\n",
            "255/255 [==============================] - 1s 3ms/step - loss: 0.1253 - accuracy: 0.9885 - val_loss: 0.1629 - val_accuracy: 0.9531\n",
            "Epoch 238/330\n",
            "255/255 [==============================] - 1s 3ms/step - loss: 0.1250 - accuracy: 0.9885 - val_loss: 0.1627 - val_accuracy: 0.9531\n",
            "Epoch 239/330\n",
            "255/255 [==============================] - 1s 3ms/step - loss: 0.1247 - accuracy: 0.9885 - val_loss: 0.1625 - val_accuracy: 0.9531\n",
            "Epoch 240/330\n",
            "255/255 [==============================] - 1s 3ms/step - loss: 0.1243 - accuracy: 0.9885 - val_loss: 0.1622 - val_accuracy: 0.9531\n",
            "Epoch 241/330\n",
            "255/255 [==============================] - 1s 3ms/step - loss: 0.1240 - accuracy: 0.9885 - val_loss: 0.1620 - val_accuracy: 0.9527\n",
            "Epoch 242/330\n",
            "255/255 [==============================] - 1s 3ms/step - loss: 0.1237 - accuracy: 0.9885 - val_loss: 0.1618 - val_accuracy: 0.9523\n",
            "Epoch 243/330\n",
            "255/255 [==============================] - 1s 3ms/step - loss: 0.1233 - accuracy: 0.9885 - val_loss: 0.1615 - val_accuracy: 0.9523\n",
            "Epoch 244/330\n",
            "255/255 [==============================] - 1s 3ms/step - loss: 0.1230 - accuracy: 0.9885 - val_loss: 0.1613 - val_accuracy: 0.9520\n",
            "Epoch 245/330\n",
            "255/255 [==============================] - 1s 3ms/step - loss: 0.1227 - accuracy: 0.9885 - val_loss: 0.1611 - val_accuracy: 0.9520\n",
            "Epoch 246/330\n",
            "255/255 [==============================] - 1s 3ms/step - loss: 0.1224 - accuracy: 0.9885 - val_loss: 0.1608 - val_accuracy: 0.9520\n",
            "Epoch 247/330\n",
            "255/255 [==============================] - 1s 3ms/step - loss: 0.1220 - accuracy: 0.9885 - val_loss: 0.1606 - val_accuracy: 0.9520\n",
            "Epoch 248/330\n",
            "255/255 [==============================] - 1s 3ms/step - loss: 0.1217 - accuracy: 0.9885 - val_loss: 0.1604 - val_accuracy: 0.9520\n",
            "Epoch 249/330\n",
            "255/255 [==============================] - 1s 3ms/step - loss: 0.1214 - accuracy: 0.9886 - val_loss: 0.1601 - val_accuracy: 0.9520\n",
            "Epoch 250/330\n",
            "255/255 [==============================] - 1s 3ms/step - loss: 0.1210 - accuracy: 0.9886 - val_loss: 0.1599 - val_accuracy: 0.9520\n",
            "Epoch 251/330\n",
            "255/255 [==============================] - 1s 3ms/step - loss: 0.1207 - accuracy: 0.9886 - val_loss: 0.1597 - val_accuracy: 0.9520\n",
            "Epoch 252/330\n",
            "255/255 [==============================] - 1s 3ms/step - loss: 0.1204 - accuracy: 0.9886 - val_loss: 0.1594 - val_accuracy: 0.9520\n",
            "Epoch 253/330\n",
            "255/255 [==============================] - 1s 3ms/step - loss: 0.1201 - accuracy: 0.9886 - val_loss: 0.1592 - val_accuracy: 0.9520\n",
            "Epoch 254/330\n",
            "255/255 [==============================] - 1s 3ms/step - loss: 0.1198 - accuracy: 0.9886 - val_loss: 0.1590 - val_accuracy: 0.9516\n",
            "Epoch 255/330\n",
            "255/255 [==============================] - 1s 3ms/step - loss: 0.1195 - accuracy: 0.9886 - val_loss: 0.1588 - val_accuracy: 0.9516\n",
            "Epoch 256/330\n",
            "255/255 [==============================] - 1s 3ms/step - loss: 0.1191 - accuracy: 0.9886 - val_loss: 0.1586 - val_accuracy: 0.9516\n",
            "Epoch 257/330\n",
            "255/255 [==============================] - 1s 3ms/step - loss: 0.1188 - accuracy: 0.9886 - val_loss: 0.1583 - val_accuracy: 0.9516\n",
            "Epoch 258/330\n",
            "255/255 [==============================] - 1s 3ms/step - loss: 0.1185 - accuracy: 0.9886 - val_loss: 0.1581 - val_accuracy: 0.9516\n",
            "Epoch 259/330\n",
            "255/255 [==============================] - 1s 3ms/step - loss: 0.1182 - accuracy: 0.9886 - val_loss: 0.1579 - val_accuracy: 0.9516\n",
            "Epoch 260/330\n",
            "255/255 [==============================] - 1s 3ms/step - loss: 0.1179 - accuracy: 0.9886 - val_loss: 0.1577 - val_accuracy: 0.9516\n",
            "Epoch 261/330\n",
            "255/255 [==============================] - 1s 3ms/step - loss: 0.1176 - accuracy: 0.9886 - val_loss: 0.1575 - val_accuracy: 0.9516\n",
            "Epoch 262/330\n",
            "255/255 [==============================] - 1s 3ms/step - loss: 0.1173 - accuracy: 0.9886 - val_loss: 0.1573 - val_accuracy: 0.9516\n",
            "Epoch 263/330\n",
            "255/255 [==============================] - 1s 3ms/step - loss: 0.1169 - accuracy: 0.9886 - val_loss: 0.1570 - val_accuracy: 0.9516\n",
            "Epoch 264/330\n",
            "255/255 [==============================] - 1s 3ms/step - loss: 0.1166 - accuracy: 0.9886 - val_loss: 0.1568 - val_accuracy: 0.9516\n",
            "Epoch 265/330\n",
            "255/255 [==============================] - 1s 3ms/step - loss: 0.1163 - accuracy: 0.9886 - val_loss: 0.1566 - val_accuracy: 0.9516\n",
            "Epoch 266/330\n",
            "255/255 [==============================] - 1s 3ms/step - loss: 0.1160 - accuracy: 0.9886 - val_loss: 0.1564 - val_accuracy: 0.9516\n",
            "Epoch 267/330\n",
            "255/255 [==============================] - 1s 3ms/step - loss: 0.1157 - accuracy: 0.9886 - val_loss: 0.1562 - val_accuracy: 0.9516\n",
            "Epoch 268/330\n",
            "255/255 [==============================] - 1s 3ms/step - loss: 0.1154 - accuracy: 0.9886 - val_loss: 0.1560 - val_accuracy: 0.9516\n",
            "Epoch 269/330\n",
            "255/255 [==============================] - 1s 3ms/step - loss: 0.1151 - accuracy: 0.9886 - val_loss: 0.1558 - val_accuracy: 0.9516\n",
            "Epoch 270/330\n",
            "255/255 [==============================] - 1s 3ms/step - loss: 0.1148 - accuracy: 0.9886 - val_loss: 0.1555 - val_accuracy: 0.9516\n",
            "Epoch 271/330\n",
            "255/255 [==============================] - 1s 3ms/step - loss: 0.1145 - accuracy: 0.9886 - val_loss: 0.1553 - val_accuracy: 0.9512\n",
            "Epoch 272/330\n",
            "255/255 [==============================] - 1s 3ms/step - loss: 0.1142 - accuracy: 0.9886 - val_loss: 0.1551 - val_accuracy: 0.9512\n",
            "Epoch 273/330\n",
            "255/255 [==============================] - 1s 3ms/step - loss: 0.1139 - accuracy: 0.9886 - val_loss: 0.1549 - val_accuracy: 0.9512\n",
            "Epoch 274/330\n",
            "255/255 [==============================] - 1s 3ms/step - loss: 0.1136 - accuracy: 0.9886 - val_loss: 0.1547 - val_accuracy: 0.9512\n",
            "Epoch 275/330\n",
            "255/255 [==============================] - 1s 3ms/step - loss: 0.1133 - accuracy: 0.9885 - val_loss: 0.1545 - val_accuracy: 0.9512\n",
            "Epoch 276/330\n",
            "255/255 [==============================] - 1s 3ms/step - loss: 0.1130 - accuracy: 0.9885 - val_loss: 0.1543 - val_accuracy: 0.9512\n",
            "Epoch 277/330\n",
            "255/255 [==============================] - 1s 3ms/step - loss: 0.1127 - accuracy: 0.9885 - val_loss: 0.1541 - val_accuracy: 0.9512\n",
            "Epoch 278/330\n",
            "255/255 [==============================] - 1s 3ms/step - loss: 0.1124 - accuracy: 0.9885 - val_loss: 0.1539 - val_accuracy: 0.9512\n",
            "Epoch 279/330\n",
            "255/255 [==============================] - 1s 3ms/step - loss: 0.1122 - accuracy: 0.9885 - val_loss: 0.1537 - val_accuracy: 0.9512\n",
            "Epoch 280/330\n",
            "255/255 [==============================] - 1s 3ms/step - loss: 0.1119 - accuracy: 0.9885 - val_loss: 0.1535 - val_accuracy: 0.9512\n",
            "Epoch 281/330\n",
            "255/255 [==============================] - 1s 3ms/step - loss: 0.1116 - accuracy: 0.9885 - val_loss: 0.1533 - val_accuracy: 0.9512\n",
            "Epoch 282/330\n",
            "255/255 [==============================] - 1s 3ms/step - loss: 0.1113 - accuracy: 0.9885 - val_loss: 0.1531 - val_accuracy: 0.9512\n",
            "Epoch 283/330\n",
            "255/255 [==============================] - 1s 3ms/step - loss: 0.1110 - accuracy: 0.9885 - val_loss: 0.1529 - val_accuracy: 0.9512\n",
            "Epoch 284/330\n",
            "255/255 [==============================] - 1s 3ms/step - loss: 0.1107 - accuracy: 0.9885 - val_loss: 0.1527 - val_accuracy: 0.9508\n",
            "Epoch 285/330\n",
            "255/255 [==============================] - 1s 3ms/step - loss: 0.1104 - accuracy: 0.9885 - val_loss: 0.1525 - val_accuracy: 0.9508\n",
            "Epoch 286/330\n",
            "255/255 [==============================] - 1s 3ms/step - loss: 0.1101 - accuracy: 0.9885 - val_loss: 0.1523 - val_accuracy: 0.9508\n",
            "Epoch 287/330\n",
            "255/255 [==============================] - 1s 3ms/step - loss: 0.1099 - accuracy: 0.9885 - val_loss: 0.1521 - val_accuracy: 0.9508\n",
            "Epoch 288/330\n",
            "255/255 [==============================] - 1s 3ms/step - loss: 0.1096 - accuracy: 0.9885 - val_loss: 0.1519 - val_accuracy: 0.9508\n",
            "Epoch 289/330\n",
            "255/255 [==============================] - 1s 3ms/step - loss: 0.1093 - accuracy: 0.9885 - val_loss: 0.1517 - val_accuracy: 0.9508\n",
            "Epoch 290/330\n",
            "255/255 [==============================] - 1s 3ms/step - loss: 0.1090 - accuracy: 0.9885 - val_loss: 0.1515 - val_accuracy: 0.9508\n",
            "Epoch 291/330\n",
            "255/255 [==============================] - 1s 3ms/step - loss: 0.1087 - accuracy: 0.9885 - val_loss: 0.1513 - val_accuracy: 0.9508\n",
            "Epoch 292/330\n",
            "255/255 [==============================] - 1s 3ms/step - loss: 0.1085 - accuracy: 0.9885 - val_loss: 0.1511 - val_accuracy: 0.9508\n",
            "Epoch 293/330\n",
            "255/255 [==============================] - 1s 3ms/step - loss: 0.1082 - accuracy: 0.9885 - val_loss: 0.1509 - val_accuracy: 0.9505\n",
            "Epoch 294/330\n",
            "255/255 [==============================] - 1s 3ms/step - loss: 0.1079 - accuracy: 0.9885 - val_loss: 0.1508 - val_accuracy: 0.9505\n",
            "Epoch 295/330\n",
            "255/255 [==============================] - 1s 3ms/step - loss: 0.1076 - accuracy: 0.9885 - val_loss: 0.1506 - val_accuracy: 0.9505\n",
            "Epoch 296/330\n",
            "255/255 [==============================] - 1s 3ms/step - loss: 0.1074 - accuracy: 0.9885 - val_loss: 0.1504 - val_accuracy: 0.9508\n",
            "Epoch 297/330\n",
            "255/255 [==============================] - 1s 3ms/step - loss: 0.1071 - accuracy: 0.9885 - val_loss: 0.1502 - val_accuracy: 0.9505\n",
            "Epoch 298/330\n",
            "255/255 [==============================] - 1s 3ms/step - loss: 0.1068 - accuracy: 0.9885 - val_loss: 0.1500 - val_accuracy: 0.9505\n",
            "Epoch 299/330\n",
            "255/255 [==============================] - 1s 3ms/step - loss: 0.1066 - accuracy: 0.9885 - val_loss: 0.1498 - val_accuracy: 0.9505\n",
            "Epoch 300/330\n",
            "255/255 [==============================] - 1s 3ms/step - loss: 0.1063 - accuracy: 0.9885 - val_loss: 0.1497 - val_accuracy: 0.9508\n",
            "Epoch 301/330\n",
            "255/255 [==============================] - 1s 3ms/step - loss: 0.1060 - accuracy: 0.9885 - val_loss: 0.1495 - val_accuracy: 0.9508\n",
            "Epoch 302/330\n",
            "255/255 [==============================] - 1s 3ms/step - loss: 0.1057 - accuracy: 0.9885 - val_loss: 0.1493 - val_accuracy: 0.9508\n",
            "Epoch 303/330\n",
            "255/255 [==============================] - 1s 3ms/step - loss: 0.1055 - accuracy: 0.9885 - val_loss: 0.1491 - val_accuracy: 0.9508\n",
            "Epoch 304/330\n",
            "255/255 [==============================] - 1s 3ms/step - loss: 0.1052 - accuracy: 0.9885 - val_loss: 0.1489 - val_accuracy: 0.9508\n",
            "Epoch 305/330\n",
            "255/255 [==============================] - 1s 3ms/step - loss: 0.1050 - accuracy: 0.9885 - val_loss: 0.1487 - val_accuracy: 0.9508\n",
            "Epoch 306/330\n",
            "255/255 [==============================] - 1s 3ms/step - loss: 0.1047 - accuracy: 0.9885 - val_loss: 0.1486 - val_accuracy: 0.9508\n",
            "Epoch 307/330\n",
            "255/255 [==============================] - 1s 3ms/step - loss: 0.1044 - accuracy: 0.9885 - val_loss: 0.1484 - val_accuracy: 0.9508\n",
            "Epoch 308/330\n",
            "255/255 [==============================] - 1s 3ms/step - loss: 0.1042 - accuracy: 0.9885 - val_loss: 0.1482 - val_accuracy: 0.9516\n",
            "Epoch 309/330\n",
            "255/255 [==============================] - 1s 3ms/step - loss: 0.1039 - accuracy: 0.9885 - val_loss: 0.1480 - val_accuracy: 0.9520\n",
            "Epoch 310/330\n",
            "255/255 [==============================] - 1s 3ms/step - loss: 0.1037 - accuracy: 0.9885 - val_loss: 0.1479 - val_accuracy: 0.9520\n",
            "Epoch 311/330\n",
            "255/255 [==============================] - 1s 3ms/step - loss: 0.1034 - accuracy: 0.9885 - val_loss: 0.1477 - val_accuracy: 0.9520\n",
            "Epoch 312/330\n",
            "255/255 [==============================] - 1s 3ms/step - loss: 0.1031 - accuracy: 0.9885 - val_loss: 0.1475 - val_accuracy: 0.9520\n",
            "Epoch 313/330\n",
            "255/255 [==============================] - 1s 3ms/step - loss: 0.1029 - accuracy: 0.9885 - val_loss: 0.1474 - val_accuracy: 0.9520\n",
            "Epoch 314/330\n",
            "255/255 [==============================] - 1s 3ms/step - loss: 0.1026 - accuracy: 0.9885 - val_loss: 0.1472 - val_accuracy: 0.9520\n",
            "Epoch 315/330\n",
            "255/255 [==============================] - 1s 3ms/step - loss: 0.1024 - accuracy: 0.9885 - val_loss: 0.1470 - val_accuracy: 0.9520\n",
            "Epoch 316/330\n",
            "255/255 [==============================] - 1s 3ms/step - loss: 0.1021 - accuracy: 0.9885 - val_loss: 0.1468 - val_accuracy: 0.9516\n",
            "Epoch 317/330\n",
            "255/255 [==============================] - 1s 3ms/step - loss: 0.1019 - accuracy: 0.9885 - val_loss: 0.1467 - val_accuracy: 0.9516\n",
            "Epoch 318/330\n",
            "255/255 [==============================] - 1s 3ms/step - loss: 0.1016 - accuracy: 0.9885 - val_loss: 0.1465 - val_accuracy: 0.9516\n",
            "Epoch 319/330\n",
            "255/255 [==============================] - 1s 3ms/step - loss: 0.1014 - accuracy: 0.9885 - val_loss: 0.1463 - val_accuracy: 0.9516\n",
            "Epoch 320/330\n",
            "255/255 [==============================] - 1s 3ms/step - loss: 0.1011 - accuracy: 0.9885 - val_loss: 0.1462 - val_accuracy: 0.9516\n",
            "Epoch 321/330\n",
            "255/255 [==============================] - 1s 3ms/step - loss: 0.1009 - accuracy: 0.9885 - val_loss: 0.1460 - val_accuracy: 0.9516\n",
            "Epoch 322/330\n",
            "255/255 [==============================] - 1s 3ms/step - loss: 0.1006 - accuracy: 0.9885 - val_loss: 0.1459 - val_accuracy: 0.9516\n",
            "Epoch 323/330\n",
            "255/255 [==============================] - 1s 3ms/step - loss: 0.1004 - accuracy: 0.9885 - val_loss: 0.1457 - val_accuracy: 0.9516\n",
            "Epoch 324/330\n",
            "255/255 [==============================] - 1s 3ms/step - loss: 0.1001 - accuracy: 0.9885 - val_loss: 0.1455 - val_accuracy: 0.9516\n",
            "Epoch 325/330\n",
            "255/255 [==============================] - 1s 3ms/step - loss: 0.0999 - accuracy: 0.9885 - val_loss: 0.1454 - val_accuracy: 0.9516\n",
            "Epoch 326/330\n",
            "255/255 [==============================] - 1s 3ms/step - loss: 0.0997 - accuracy: 0.9885 - val_loss: 0.1452 - val_accuracy: 0.9516\n",
            "Epoch 327/330\n",
            "255/255 [==============================] - 1s 3ms/step - loss: 0.0994 - accuracy: 0.9885 - val_loss: 0.1450 - val_accuracy: 0.9516\n",
            "Epoch 328/330\n",
            "255/255 [==============================] - 1s 3ms/step - loss: 0.0992 - accuracy: 0.9885 - val_loss: 0.1449 - val_accuracy: 0.9516\n",
            "Epoch 329/330\n",
            "255/255 [==============================] - 1s 3ms/step - loss: 0.0989 - accuracy: 0.9885 - val_loss: 0.1447 - val_accuracy: 0.9520\n",
            "Epoch 330/330\n",
            "255/255 [==============================] - 1s 3ms/step - loss: 0.0987 - accuracy: 0.9885 - val_loss: 0.1446 - val_accuracy: 0.9520\n"
          ],
          "name": "stdout"
        }
      ]
    },
    {
      "cell_type": "code",
      "metadata": {
        "id": "sdH4lyAY7oWh",
        "colab": {
          "base_uri": "https://localhost:8080/"
        },
        "outputId": "f3645ecd-402c-4e5e-a1f6-cfc3c6c95e23"
      },
      "source": [
        "hist_test = model.evaluate(X_test,y_test) # accuracy on test set"
      ],
      "execution_count": null,
      "outputs": [
        {
          "output_type": "stream",
          "text": [
            "305/305 [==============================] - 0s 2ms/step - loss: 0.1417 - accuracy: 0.9891\n"
          ],
          "name": "stdout"
        }
      ]
    },
    {
      "cell_type": "code",
      "metadata": {
        "id": "02QRDNt67oWh",
        "colab": {
          "base_uri": "https://localhost:8080/",
          "height": 475
        },
        "outputId": "3cecd7d5-a8c6-4eeb-af28-edf89fec805c"
      },
      "source": [
        "fig,ax = plt.subplots(1,2)\n",
        "fig.set_size_inches(15, 7)\n",
        "ax[0].plot(history.history['loss'],label='Train')\n",
        "ax[0].plot(history.history['val_loss'],label='Validation')\n",
        "ax[0].set_title('Loss Graph')\n",
        "ax[0].set_xlabel('Epoch')\n",
        "ax[0].legend(loc='best')\n",
        "\n",
        "ax[1].plot(history.history['accuracy'],label='Train')\n",
        "ax[1].plot(history.history['val_accuracy'],label='Validation')\n",
        "ax[1].set_title('Accuracy Graph')\n",
        "ax[1].set_xlabel('Epoch')\n",
        "ax[1].legend(loc='best')"
      ],
      "execution_count": null,
      "outputs": [
        {
          "output_type": "execute_result",
          "data": {
            "text/plain": [
              "<matplotlib.legend.Legend at 0x7f670576ca50>"
            ]
          },
          "metadata": {
            "tags": []
          },
          "execution_count": 54
        },
        {
          "output_type": "display_data",
          "data": {
            "image/png": "[encoded data removed]",
            "text/plain": [
              "<Figure size 1080x504 with 2 Axes>"
            ]
          },
          "metadata": {
            "tags": [],
            "needs_background": "light"
          }
        }
      ]
    },
    {
      "cell_type": "code",
      "metadata": {
        "id": "kv22quxY7oWi"
      },
      "source": [
        "model.save('mymodel.h5')"
      ],
      "execution_count": null,
      "outputs": []
    },
    {
      "cell_type": "code",
      "metadata": {
        "id": "EMvwYcAN7oWi"
      },
      "source": [
        ""
      ],
      "execution_count": null,
      "outputs": []
    }
  ]
}